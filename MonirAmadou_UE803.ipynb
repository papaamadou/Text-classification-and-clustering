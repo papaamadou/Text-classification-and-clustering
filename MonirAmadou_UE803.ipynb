{
 "cells": [
  {
   "cell_type": "markdown",
   "metadata": {},
   "source": [
    "## <u>Libraries</u>"
   ]
  },
  {
   "cell_type": "code",
   "execution_count": 14,
   "metadata": {},
   "outputs": [],
   "source": [
    "import numpy as np \n",
    "import pandas as pd\n",
    "\n",
    "import wptools\n",
    "import wikipedia\n",
    " \n",
    "import string \n",
    "import nltk \n",
    "from nltk.corpus import stopwords \n",
    "from nltk.tokenize import word_tokenize\n",
    "from nltk.util import ngrams\n",
    "\n",
    "import warnings\n",
    "warnings.filterwarnings(\"ignore\")"
   ]
  },
  {
   "cell_type": "markdown",
   "metadata": {},
   "source": [
    "<div class='alert alert-success'><h1> Part 1 : Corpus Extraction</h1></div>"
   ]
  },
  {
   "cell_type": "code",
   "execution_count": 15,
   "metadata": {},
   "outputs": [],
   "source": [
    "def get_results(endpoint_url, query):\n",
    "    sparql = SPARQLWrapper(endpoint_url)\n",
    "    sparql.setQuery(query)\n",
    "    sparql.setReturnFormat(JSON)\n",
    "    return sparql.query().convert()"
   ]
  },
  {
   "cell_type": "markdown",
   "metadata": {},
   "source": [
    "**person_info** retrieves from the wd of each person : title, description, page content(text). In case, the page does not exist, the exception PageError is raised in addition to DisambiguationError when there are similar names to the person. When it is the case, the function returns an empty dictionary as it will so in case there is less than n sentences in the page content. "
   ]
  },
  {
   "cell_type": "code",
   "execution_count": 16,
   "metadata": {},
   "outputs": [],
   "source": [
    "def person_info(wd, n=5): \n",
    "    '''\n",
    "        retrieve title and description of each human from its wd \n",
    "    '''\n",
    "    person = {}\n",
    "    \n",
    "    # get wikidata \n",
    "    page = wptools.page(wikibase=wd)\n",
    "    page.get_wikidata()\n",
    "    \n",
    "    # add informations to dict person \n",
    "    person['wd'] = wd \n",
    "    person['title'] = page.data['title']\n",
    "    person['description'] = page.data['description'] \n",
    "    \n",
    "    \n",
    "    # get content \n",
    "    try:\n",
    "        wikipedia.set_lang(\"en\")\n",
    "        page = wikipedia.page(person['title'])\n",
    "    except (wikipedia.exceptions.PageError, wikipedia.exceptions.DisambiguationError) as e:\n",
    "        #if a PageError and DisambiguationError are raised don't return {}\n",
    "        return {}\n",
    "    \n",
    "    # add informations to dict person\n",
    "    from nltk.tokenize import sent_tokenize\n",
    "    #text = text.replace(\"\\n\",\"\")\n",
    "    sentences = sent_tokenize(page.content)   # sentence tokenization \n",
    "    \n",
    "    # in case there is less than n sentences \n",
    "    if len(sentences) < n:\n",
    "        return {}\n",
    "    \n",
    "    # otherwise \n",
    "    page_content = ' '.join(sentences[:n])\n",
    "    person['text'] = page_content                       \n",
    "    \n",
    "    return person "
   ]
  },
  {
   "cell_type": "code",
   "execution_count": 17,
   "metadata": {},
   "outputs": [],
   "source": [
    "# Test person_info() \n",
    "#person_info('Q27072')"
   ]
  },
  {
   "cell_type": "markdown",
   "metadata": {},
   "source": [
    "**cat_list**"
   ]
  },
  {
   "cell_type": "code",
   "execution_count": 18,
   "metadata": {},
   "outputs": [],
   "source": [
    "def cat_list(l, cat_name, k):\n",
    "    '''\n",
    "        retrieve all the persons according to the cat_name from the corresponding list of wd l \n",
    "    '''\n",
    "\n",
    "    category = []\n",
    "    i = 0 \n",
    "    while len(category) < k and i < len(l):\n",
    "        \n",
    "        person_wd = l[i]\n",
    "        person = person_info(person_wd)  # dictionary of person's info \n",
    "        i += 1 \n",
    "        \n",
    "        # if the person does not exist \n",
    "        if person == {}: \n",
    "            continue\n",
    "        \n",
    "        person['cat'] = cat_name[:-1]   #remove the 's' at the end  \n",
    "        category.append(person)     \n",
    "            \n",
    "    return category"
   ]
  },
  {
   "cell_type": "code",
   "execution_count": 19,
   "metadata": {},
   "outputs": [],
   "source": [
    "# Test cat_dict\n",
    "#L = [\"Q23696\",\"Q27072\",\"Q4616\",\"Q43323\"]\n",
    "#cat_dict(L,\"mathematicians\")"
   ]
  },
  {
   "cell_type": "markdown",
   "metadata": {},
   "source": [
    "**list_wd_category**"
   ]
  },
  {
   "cell_type": "code",
   "execution_count": 20,
   "metadata": {},
   "outputs": [],
   "source": [
    "from SPARQLWrapper import SPARQLWrapper, JSON"
   ]
  },
  {
   "cell_type": "code",
   "execution_count": 21,
   "metadata": {},
   "outputs": [],
   "source": [
    "def list_wd_category(wd_cat, K=100):\n",
    "    '''\n",
    "        K : number of wd retrieved (to be maximized)\n",
    "        returns a list of wd for each person from the wd of a category \n",
    "    '''\n",
    "    from SPARQLWrapper import SPARQLWrapper, JSON\n",
    "    endpoint_url = \"https://query.wikidata.org/sparql\"\n",
    "\n",
    "    query = \"\"\"SELECT DISTINCT ?item ?itemLabel ?itemDescription  WHERE {{\n",
    "      ?item wdt:P31 wd:Q5.\n",
    "      ?item wdt:P106 wd:{}\n",
    "        SERVICE wikibase:label {{ bd:serviceParam wikibase:language \"[AUTO_LANGUAGE],fr,en\" }}\n",
    "\n",
    "    }}\n",
    "    LIMIT {}\"\"\".format(wd_cat,K)\n",
    "\n",
    "    results = get_results(endpoint_url, query)\n",
    "    \n",
    "    list_wd = []\n",
    "    for result in results[\"results\"][\"bindings\"]:\n",
    "        list_wd.append(result['item']['value'][31:])   # wd \n",
    "    \n",
    "    return list_wd"
   ]
  },
  {
   "cell_type": "code",
   "execution_count": 22,
   "metadata": {},
   "outputs": [],
   "source": [
    "# Test list_wd_category\n",
    "#list_wd_category(\"Q170790\") #mathematicians "
   ]
  },
  {
   "cell_type": "markdown",
   "metadata": {},
   "source": [
    "**type_data**"
   ]
  },
  {
   "cell_type": "code",
   "execution_count": 23,
   "metadata": {},
   "outputs": [],
   "source": [
    "def type_data(type_dic, type_letter, k=30):\n",
    "    '''\n",
    "        create a dataframe of persons from their types and categories\n",
    "        type_dic : dictionnary of {cat:wd}\n",
    "    '''\n",
    "    type_data = []\n",
    "    for category, wd in type_dic.items(): \n",
    "        L = list_wd_category(wd)   # retrieves a list of wds \n",
    "        catList = cat_list(L, category, k)\n",
    "        \n",
    "        # add the type letter \n",
    "        for d in catList: \n",
    "            d['type'] = type_letter\n",
    "        \n",
    "        # retrieves a list of dict for each person with its corresponding infos\n",
    "        type_data.extend(catList)   \n",
    "        print(\">>>>> {} infos have been retrieved !\".format(category))\n",
    "        \n",
    "    return type_data"
   ]
  },
  {
   "cell_type": "code",
   "execution_count": 24,
   "metadata": {},
   "outputs": [],
   "source": [
    "artists = {\"painters\":\"Q1028181\", \"singers\":\"Q177220\", \"writers\":\"Q36180\"}\n",
    "non_artists = {\"mathematicians\":\"Q170790\", \"architects\":\"Q42973\", \"politicians\":\"Q82955\"}"
   ]
  },
  {
   "cell_type": "code",
   "execution_count": 25,
   "metadata": {},
   "outputs": [],
   "source": [
    "# Test type_data\n",
    "#artists_data = type_data(type_dic=non_artists, type_letter='Z', k=2)"
   ]
  },
  {
   "cell_type": "code",
   "execution_count": 26,
   "metadata": {
    "collapsed": true,
    "jupyter": {
     "outputs_hidden": true
    }
   },
   "outputs": [
    {
     "name": "stderr",
     "output_type": "stream",
     "text": [
      "www.wikidata.org (wikidata) Q7803\n",
      "www.wikidata.org (labels) P691|Q1131476|P18|P8406|P6844|Q8989076|...\n",
      "www.wikidata.org (labels) Q555015|Q2044|P949|P1273|Q842858|P5271|...\n",
      "www.wikidata.org (labels) P3762|P735|P2342|P973|Q671384|P271|P322...\n",
      "www.wikidata.org (labels) P8750|Q163804|Q6581097|Q214867|P7444|P4...\n",
      "www.wikidata.org (labels) P373|Q20729893|P268|P937|Q705551|Q21008...\n",
      "en.wikipedia.org (imageinfo) File:Alessandro Allori, santissima t...\n",
      "Bronzino (en) data\n",
      "{\n",
      "  aliases: <list(54)> Agnolo di Cosimo, Angelo Bronzino, Angelo Al...\n",
      "  claims: <dict(137)> P1066, P910, P21, P373, P244, P214, P227, P1...\n",
      "  description: Italian Mannerist painter\n",
      "  image: <list(1)> {'file': 'File:Alessandro Allori, santissima tr...\n",
      "  label: Bronzino\n",
      "  labels: <dict(213)> P691, Q1131476, P18, P8406, P6844, Q8989076,...\n",
      "  modified: <dict(1)> wikidata\n",
      "  requests: <list(7)> wikidata, labels, labels, labels, labels, la...\n",
      "  title: Bronzino\n",
      "  what: human\n",
      "  wikibase: Q7803\n",
      "  wikidata: <dict(137)> student of (P1066), topic's main category ...\n",
      "  wikidata_pageid: 9049\n",
      "  wikidata_url: https://www.wikidata.org/wiki/Q7803\n",
      "}\n",
      "www.wikidata.org (wikidata) Q5591\n",
      "www.wikidata.org (labels) P18|P8406|P6844|P1207|P4927|P800|P31|P3...\n",
      "www.wikidata.org (labels) P7859|P2252|P3348|P1368|Q71887839|P245|...\n",
      "www.wikidata.org (labels) P1017|Q3437|P8750|Q163804|Q6581097|Q214...\n",
      "www.wikidata.org (labels) P8189|P4553|P3241\n",
      "en.wikipedia.org (imageinfo) File:Pinturicchio self.jpg\n",
      "Pinturicchio (en) data\n",
      "{\n",
      "  aliases: <list(25)> Bernardino di Betto, Bernardino Pintoricchio...\n",
      "  claims: <dict(109)> P650, P373, P106, P214, P213, P19, P20, P227...\n",
      "  description: Italian painter (1454-1513)\n",
      "  image: <list(1)> {'file': 'File:Pinturicchio self.jpg', 'kind': ...\n",
      "  label: Pinturicchio\n",
      "  labels: <dict(153)> P18, P8406, P6844, P1207, P4927, P800, P31, ...\n",
      "  modified: <dict(1)> wikidata\n",
      "  requests: <list(6)> wikidata, labels, labels, labels, labels, im...\n",
      "  title: Pinturicchio\n",
      "  what: human\n",
      "  wikibase: Q5591\n",
      "  wikidata: <dict(109)> RKDartists ID (P650), Commons category (P3...\n",
      "  wikidata_pageid: 6637\n",
      "  wikidata_url: https://www.wikidata.org/wiki/Q5591\n",
      "}\n",
      "www.wikidata.org (wikidata) Q5593\n",
      "www.wikidata.org (labels) Q1113293|Q15984355|P2604|Q2045138|P2431...\n",
      "www.wikidata.org (labels) P4223|Q33231|Q3351352|P245|P6275|P8317|...\n",
      "www.wikidata.org (labels) Q194622|Q20535072|P1875|Q857276|Q128161...\n",
      "www.wikidata.org (labels) P7848|Q160894|Q1760539|Q7066|P7293|P166...\n",
      "www.wikidata.org (labels) Q2365880|Q924335|P3221|P8034|Q679527|P1...\n",
      "www.wikidata.org (labels) P8783|Q3329642|Q1970945|P8189|P18|P1015...\n",
      "www.wikidata.org (labels) Q2901542|P4439|Q23402|Q5095736|Q840618|...\n",
      "www.wikidata.org (labels) Q29043257|P451|P8849|P9251|Q2527311|P16...\n",
      "www.wikidata.org (labels) Q7541856|Q160236|Q181754|Q1068063|P569|...\n",
      "www.wikidata.org (labels) Q377500|P1938|P4629|Q1952944|P172|P2799...\n",
      "www.wikidata.org (labels) P1670|P3219|P214|P7944|Q32659772|P5739|...\n",
      "en.wikipedia.org (imageinfo) File:Pablo picasso 1.jpg\n",
      "Pablo Picasso (en) data\n",
      "{\n",
      "  aliases: <list(10)> Pablo Ruiz Y Picasso, p. picasso, Pablo Ruiz...\n",
      "  claims: <dict(282)> P570, P19, P20, P937, P25, P451, P40, P800, ...\n",
      "  description: Spanish artist (1881-1973)\n",
      "  image: <list(1)> {'file': 'File:Pablo picasso 1.jpg', 'kind': 'w...\n",
      "  label: Pablo Picasso\n",
      "  labels: <dict(517)> Q1113293, Q15984355, P2604, Q2045138, P2431,...\n",
      "  modified: <dict(1)> wikidata\n",
      "  requests: <list(13)> wikidata, labels, labels, labels, labels, l...\n",
      "  title: Pablo_Picasso\n",
      "  what: human\n",
      "  wikibase: Q5593\n",
      "  wikidata: <dict(282)> date of death (P570), place of birth (P19)...\n",
      "  wikidata_pageid: 6639\n",
      "  wikidata_url: https://www.wikidata.org/wiki/Q5593\n",
      "}\n",
      "www.wikidata.org (wikidata) Q5582\n",
      "www.wikidata.org (labels) Q2714571|Q666331|P2431|P800|P6698|Q6935...\n",
      "www.wikidata.org (labels) P3065|Q403080|P7865|P910|P1711|P1248|Q6...\n",
      "www.wikidata.org (labels) P7311|Q82941|Q15296811|Q2822455|P1005|P...\n",
      "www.wikidata.org (labels) P723|P1707|P1442|Q239|P1344|Q89574171|Q...\n",
      "www.wikidata.org (labels) Q11569986|P3630|P6002|P20|P7941|P135|Q2...\n",
      "www.wikidata.org (labels) P1477|P648|Q201469|P1819|P5421|P3569|Q1...\n",
      "www.wikidata.org (labels) Q657415|P734|Q1201549|Q148458|Q511|P771...\n",
      "www.wikidata.org (labels) P691|Q15883237|P1207|P4177|P6844|P4927|...\n",
      "www.wikidata.org (labels) P1315|Q1673285|Q714163|Q26936772|Q21406...\n",
      "www.wikidata.org (labels) P1559|P7704|Q736439|Q430682|P8947|Q3330...\n",
      "en.wikipedia.org (imageinfo) File:Vincent van Gogh - Self-portrai...\n",
      "Vincent van Gogh (en) data\n",
      "{\n",
      "  aliases: <list(13)> Vincent Willem van Gogh, Vincent-Willem van ...\n",
      "  claims: <dict(236)> P800, P22, P27, P21, P19, P20, P106, P214, P...\n",
      "  description: Dutch post-impressionist painter (1853–1890)\n",
      "  image: <list(2)> {'file': 'File:Vincent van Gogh - Self-portrait...\n",
      "  label: Vincent van Gogh\n",
      "  labels: <dict(478)> Q2714571, Q666331, P2431, P800, P6698, Q6935...\n",
      "  modified: <dict(1)> wikidata\n",
      "  requests: <list(12)> wikidata, labels, labels, labels, labels, l...\n",
      "  title: Vincent_van_Gogh\n",
      "  what: human\n",
      "  wikibase: Q5582\n",
      "  wikidata: <dict(236)> notable work (P800), father (P22), country...\n",
      "  wikidata_pageid: 6614\n",
      "  wikidata_url: https://www.wikidata.org/wiki/Q5582\n",
      "}\n",
      "www.wikidata.org (wikidata) Q2632\n",
      "www.wikidata.org (labels) P691|P4013|Q31687|P5007|P2031|P358|P18|...\n",
      "www.wikidata.org (labels) P5034|Q17015593|P2373|P856|P434|Q212443...\n",
      "www.wikidata.org (labels) Q22344608|P4781|P7215|P7194|P6351|P4515...\n",
      "www.wikidata.org (labels) P1412|P7902|P1712|Q10722144|Q8040991|P2...\n",
      "www.wikidata.org (labels) P1728|Q789447|P3162|P1828|P22|P4768|P46...\n",
      "en.wikipedia.org (imageinfo) File:Ringo Starr (2007).jpg|File:Rin...\n",
      "Ringo Starr (en) data\n",
      "{\n",
      "  aliases: <list(4)> Richard Starkey, Sir Richard Starkey MBE, Sir...\n",
      "  claims: <dict(171)> P735, P1303, P990, P358, P373, P214, P213, P...\n",
      "  description: British musician, drummer for the Beatles\n",
      "  image: <list(2)> {'file': 'File:Ringo Starr and all his band (84...\n",
      "  label: Ringo Starr\n",
      "  labels: <dict(238)> P691, P4013, Q31687, P5007, P2031, P358, P18...\n",
      "  modified: <dict(1)> wikidata\n",
      "  requests: <list(7)> wikidata, labels, labels, labels, labels, la...\n",
      "  title: Ringo_Starr\n",
      "  what: human\n",
      "  wikibase: Q2632\n",
      "  wikidata: <dict(171)> given name (P735), instrument (P1303), aud...\n",
      "  wikidata_pageid: 3603\n",
      "  wikidata_url: https://www.wikidata.org/wiki/Q2632\n",
      "}\n",
      "www.wikidata.org (wikidata) Q5547\n",
      "www.wikidata.org (labels) P691|P18|P8406|P6844|P1207|P4927|P800|P...\n",
      "www.wikidata.org (labels) Q866498|Q9016426|P7293|P166|Q54782544|P...\n",
      "www.wikidata.org (labels) Q3768553|P7865|P910|P2538|P485|P1711|P1...\n",
      "www.wikidata.org (labels) P734|Q1596931|P8034|P7763|P1412|P7902|P...\n",
      "www.wikidata.org (labels) Q50001|P737|Q1093113|P9493|P1953|P1343|...\n",
      "en.wikipedia.org (imageinfo) File:Antonio Canova Selfportrait 179...\n",
      "Antonio Canova (en) data\n",
      "{\n",
      "  aliases: <list(9)> Antoine Canova, Marchese d'Ischia Antonio Can...\n",
      "  claims: <dict(157)> P910, P214, P213, P373, P244, P227, P20, P26...\n",
      "  description: <str(124)> Italian sculptor from the Republic of Ve...\n",
      "  image: <list(3)> {'file': 'File:Antonio Canova Selfportrait 1792...\n",
      "  label: Antonio Canova\n",
      "  labels: <dict(244)> P691, P18, P8406, P6844, P1207, P4927, P800,...\n",
      "  modified: <dict(1)> wikidata\n",
      "  requests: <list(7)> wikidata, labels, labels, labels, labels, la...\n",
      "  title: Antonio_Canova\n",
      "  what: human\n",
      "  wikibase: Q5547\n",
      "  wikidata: <dict(157)> topic's main category (P910), VIAF ID (P21...\n",
      "  wikidata_pageid: 6529\n",
      "  wikidata_url: https://www.wikidata.org/wiki/Q5547\n",
      "}\n",
      "www.wikidata.org (wikidata) Q8459\n",
      "www.wikidata.org (labels) P691|P18|Q2872711|P6844|P1207|P8406|P80...\n",
      "www.wikidata.org (labels) P4342|Q5503390|P7982|Q1028181|Q636400|P...\n",
      "www.wikidata.org (labels) P2924|Q95569|Q133780|Q4948|P1006|P5905|...\n",
      "www.wikidata.org (labels) P1263|P8947|Q213322|P20|Q653002|P135|P6...\n",
      "en.wikipedia.org (imageinfo) File:Giorgione 059.jpg\n",
      "Giorgione (en) data\n",
      "{\n",
      "  aliases: <list(73)> Giorgioni di Castelfranco, Georgoni, Giorgon...\n",
      "  claims: <dict(131)> P1066, P373, P106, P214, P213, P244, P227, P...\n",
      "  description: Venetian Renaissance painter (1478-1510)\n",
      "  image: <list(1)> {'file': 'File:Giorgione 059.jpg', 'kind': 'wik...\n",
      "  label: Giorgione\n",
      "  labels: <dict(188)> P691, P18, Q2872711, P6844, P1207, P8406, P8...\n",
      "  modified: <dict(1)> wikidata\n",
      "  requests: <list(6)> wikidata, labels, labels, labels, labels, im...\n",
      "  title: Giorgione\n",
      "  what: human\n",
      "  wikibase: Q8459\n",
      "  wikidata: <dict(131)> student of (P1066), Commons category (P373...\n",
      "  wikidata_pageid: 9761\n",
      "  wikidata_url: https://www.wikidata.org/wiki/Q8459\n",
      "}\n",
      "www.wikidata.org (wikidata) Q762\n",
      "www.wikidata.org (labels) Q389908|P800|Q56229514|Q11629|P1741|P80...\n",
      "www.wikidata.org (labels) P8179|P8210|P2432|P646|Q212042|P8945|P4...\n",
      "www.wikidata.org (labels) P8851|P39|P8547|Q104694359|P1986|P6573|...\n",
      "www.wikidata.org (labels) P1472|Q239303|P5008|Q187998|Q3905124|P5...\n",
      "www.wikidata.org (labels) P18|P1015|Q1217213|P4169|Q271928|Q18220...\n",
      "www.wikidata.org (labels) P950|P1138|Q42973|P2924|P3603|P5321|Q78...\n",
      "www.wikidata.org (labels) P1367|P570|P3154|P3544|Q67311526|Q14854...\n",
      "www.wikidata.org (labels) Q371916|Q6247|P7369|P7512|Q17378135|Q11...\n",
      "www.wikidata.org (labels) P22|Q207929|Q1122731|P1296|P109|P3280|P...\n",
      "en.wikipedia.org (imageinfo) File:Possible Self-Portrait of Leona...\n",
      "Leonardo da Vinci (en) data\n",
      "{\n",
      "  aliases: <list(95)> Leonardo, da Vinci, Leonard de Vinci, L. Dav...\n",
      "  claims: <dict(277)> P2188, P2924, P409, P3348, P6002, P27, P691,...\n",
      "  description: Italian Renaissance polymath (1452-1519)\n",
      "  image: <list(2)> {'file': 'File:Francesco Melzi - Portrait of Le...\n",
      "  label: Leonardo da Vinci\n",
      "  labels: <dict(421)> Q389908, P800, Q56229514, Q11629, P1741, P80...\n",
      "  modified: <dict(1)> wikidata\n",
      "  requests: <list(11)> wikidata, labels, labels, labels, labels, l...\n",
      "  title: Leonardo_da_Vinci\n",
      "  what: human\n",
      "  wikibase: Q762\n",
      "  wikidata: <dict(277)> BiblioNet author ID (P2188), Great Russian...\n",
      "  wikidata_pageid: 1069\n",
      "  wikidata_url: https://www.wikidata.org/wiki/Q762\n",
      "}\n",
      "www.wikidata.org (wikidata) Q8704\n",
      "www.wikidata.org (labels) P691|P5007|Q41819|P2031|P18|P25|Q240548...\n",
      "www.wikidata.org (labels) Q14264308|P2949|P7848|P8899|Q3739104|Q2...\n",
      "www.wikidata.org (labels) P1417|P5587|P2750|Q499249|Q6364655|P911...\n",
      "www.wikidata.org (labels) Q111332|P735|P1003|Q29552|P3365|P119|P2...\n",
      "www.wikidata.org (labels) P7084|P244|Q434814|P26|P5273|P8385|Q658...\n",
      "www.wikidata.org (labels) P6058|P7686|P1816|P5033|P8902|P19|Q1366...\n",
      "en.wikipedia.org (imageinfo) File:Walt Disney 1946.JPG\n",
      "Walt Disney (en) data\n",
      "{\n",
      "  aliases: <list(3)> Walter Elias Disney, W. Disney, Walter E. Disney\n",
      "  claims: <dict(205)> P22, P20, P119, P31, P106, P244, P214, P213,...\n",
      "  description: American film producer and businessman (1901-1966)\n",
      "  image: <list(1)> {'file': 'File:Walt Disney 1946.JPG', 'kind': '...\n",
      "  label: Walt Disney\n",
      "  labels: <dict(288)> P691, P5007, Q41819, P2031, P18, P25, Q24054...\n",
      "  modified: <dict(1)> wikidata\n",
      "  requests: <list(8)> wikidata, labels, labels, labels, labels, la...\n",
      "  title: Walt_Disney\n",
      "  what: human\n",
      "  wikibase: Q8704\n",
      "  wikidata: <dict(205)> father (P22), place of death (P20), place ...\n",
      "  wikidata_pageid: 10026\n",
      "  wikidata_url: https://www.wikidata.org/wiki/Q8704\n",
      "}\n",
      "www.wikidata.org (wikidata) Q352\n",
      "www.wikidata.org (labels) P2031|P8168|P800|Q44981449|Q22649|P6520...\n",
      "www.wikidata.org (labels) P3222|P4839|P3987|P1884|P9164|P8179|Q17...\n",
      "www.wikidata.org (labels) Q372436|P8992|P8851|P39|P8547|Q10469435...\n",
      "www.wikidata.org (labels) P1003|Q8221824|P2298|P241|P1472|Q157740...\n",
      "www.wikidata.org (labels) P2607|P535|Q188|Q22116733|Q22085545|Q16...\n",
      "www.wikidata.org (labels) Q6001165|Q54149726|P1368|Q1563943|Q1073...\n",
      "www.wikidata.org (labels) Q83364|Q22086756|P6886|Q853976|P1299|P1...\n",
      "www.wikidata.org (labels) P2163|Q4613831|P1050|P4985|Q60045|P5034...\n",
      "www.wikidata.org (labels) P8795|Q22114544|P172|Q66225|P902|Q2763|...\n",
      "www.wikidata.org (labels) Q568790|Q15951713|P27|P2632|P4326|P2188\n",
      "en.wikipedia.org (imageinfo) File:Hitler portrait crop.jpg\n",
      "Adolf Hitler (en) data\n",
      "{\n",
      "  aliases: <list(4)> Führer, Bohemian Corporal, A. H., Der Führer\n",
      "  claims: <dict(291)> P1576, P1150, P27, P19, P20, P26, P22, P106,...\n",
      "  description: <str(103)> Austrian-born German politician, chancel...\n",
      "  image: <list(1)> {'file': 'File:Hitler portrait crop.jpg', 'kind...\n",
      "  label: Adolf Hitler\n",
      "  labels: <dict(456)> P2031, P8168, P800, Q44981449, Q22649, P6520...\n",
      "  modified: <dict(1)> wikidata\n",
      "  requests: <list(12)> wikidata, labels, labels, labels, labels, l...\n",
      "  title: Adolf_Hitler\n",
      "  what: human\n",
      "  wikibase: Q352\n",
      "  wikidata: <dict(289)> lifestyle (P1576), Regensburg Classificati...\n",
      "  wikidata_pageid: 548\n",
      "  wikidata_url: https://www.wikidata.org/wiki/Q352\n",
      "}\n",
      "www.wikidata.org (wikidata) Q5592\n",
      "www.wikidata.org (labels) P800|Q1624722|Q567861|P1741|Q81096|Q125...\n",
      "www.wikidata.org (labels) P4145|Q220|P2011|P349|Q250414|P6394|Q54...\n",
      "www.wikidata.org (labels) P2949|P7848|Q4173137|P8408|Q2069508|P72...\n",
      "www.wikidata.org (labels) P3782|P4581|P3630|Q49757|P5504|P9226|P6...\n",
      "www.wikidata.org (labels) Q1028181|P7859|P1368|Q15955936|P5821|P7...\n",
      "www.wikidata.org (labels) P1343|P4432|P19|P859|P1375|P1367|P570|Q...\n",
      "www.wikidata.org (labels) Q17378135|P2538|Q645717|P1038|Q4091875|...\n",
      "www.wikidata.org (labels) P9223|P6385|Q15089621|P27|P866|P2188\n",
      "en.wikipedia.org (imageinfo) File:Michelangelo Daniele da Volterr...\n",
      "Michelangelo (en) data\n",
      "{\n",
      "  aliases: <list(170)> Michelangelo Bonorotti, Michael Angelo Buon...\n",
      "  claims: <dict(241)> P1066, P18, P106, P135, P19, P20, P119, P27,...\n",
      "  description: Italian sculptor, painter, architect and poet (1475...\n",
      "  image: <list(1)> {'file': 'File:Michelangelo Daniele da Volterra...\n",
      "  label: Michelangelo\n",
      "  labels: <dict(356)> P800, Q1624722, Q567861, P1741, Q81096, Q125...\n",
      "  modified: <dict(1)> wikidata\n",
      "  requests: <list(10)> wikidata, labels, labels, labels, labels, l...\n",
      "  title: Michelangelo\n",
      "  what: human\n",
      "  wikibase: Q5592\n",
      "  wikidata: <dict(240)> student of (P1066), image (P18), occupatio...\n",
      "  wikidata_pageid: 6638\n",
      "  wikidata_url: https://www.wikidata.org/wiki/Q5592\n",
      "}\n",
      "www.wikidata.org (wikidata) Q3824\n",
      "www.wikidata.org (labels) Q2044|P463|P1472|P18|P8406|P650|P646|Q1...\n",
      "www.wikidata.org (labels) P1882|P3430|P245|P570|Q2634|P1367|P7848...\n",
      "en.wikipedia.org (imageinfo) File:Etienne-Barthélemy Garnier - Di...\n",
      "Étienne-Barthélémy Garnier (en) data\n",
      "{\n",
      "  aliases: <list(7)> Étienne Barthélemy Garnier, Etienne Barthélem...\n",
      "  claims: <dict(55)> P650, P19, P21, P373, P27, P106, P569, P570, ...\n",
      "  description: French painter (1759-1849)\n",
      "  image: <list(1)> {'file': 'File:Etienne-Barthélemy Garnier - Dia...\n",
      "  label: Etienne-Barthélémy Garnier\n",
      "  labels: <dict(75)> Q2044, P463, P1472, P18, P8406, P650, P646, Q...\n",
      "  modified: <dict(1)> wikidata\n",
      "  requests: <list(4)> wikidata, labels, labels, imageinfo\n",
      "  title: Étienne-Barthélémy_Garnier\n",
      "  what: human\n",
      "  wikibase: Q3824\n",
      "  wikidata: <dict(55)> RKDartists ID (P650), place of birth (P19),...\n",
      "  wikidata_pageid: 4728\n",
      "  wikidata_url: https://www.wikidata.org/wiki/Q3824\n",
      "}\n",
      "www.wikidata.org (wikidata) Q5432\n",
      "www.wikidata.org (labels) Q2420849|P2431|P800|P6698|Q876383|Q1162...\n",
      "www.wikidata.org (labels) Q220|P349|Q2603905|P6394|Q812285|P6804|...\n",
      "www.wikidata.org (labels) P1273|P2174|P5019|P5617|Q61676995|P4025...\n",
      "www.wikidata.org (labels) Q51252|P26|P1989|Q6581097|P1233|P2041|P...\n",
      "www.wikidata.org (labels) Q19180675|Q10862983|P9037|P3372|P648|P8...\n",
      "www.wikidata.org (labels) Q1464509|P21|Q602358|P8849|P9251|P1695|...\n",
      "www.wikidata.org (labels) P4399|P2163|P3788|P1050|P5034|Q47484032...\n",
      "www.wikidata.org (labels) P8750|P7444|P409|Q682406|Q840886|P1559|...\n",
      "en.wikipedia.org (imageinfo) File:Autorretrato con gafas por Fran...\n",
      "Francisco Goya (en) data\n",
      "{\n",
      "  aliases: <list(52)> Francisco Goya Lucientes, Francisco de Goya ...\n",
      "  claims: <dict(213)> P650, P27, P119, P106, P214, P213, P373, P24...\n",
      "  description: <str(64)> 18th and 19th-century Spanish painter and...\n",
      "  image: <list(1)> {'file': 'File:Autorretrato con gafas por Franc...\n",
      "  label: Francisco Goya\n",
      "  labels: <dict(375)> Q2420849, P2431, P800, P6698, Q876383, Q1162...\n",
      "  modified: <dict(1)> wikidata\n",
      "  requests: <list(10)> wikidata, labels, labels, labels, labels, l...\n",
      "  title: Francisco_Goya\n",
      "  what: human\n",
      "  wikibase: Q5432\n",
      "  wikidata: <dict(213)> RKDartists ID (P650), country of citizensh...\n",
      "  wikidata_pageid: 6385\n",
      "  wikidata_url: https://www.wikidata.org/wiki/Q5432\n",
      "}\n",
      "www.wikidata.org (wikidata) Q9991\n",
      "www.wikidata.org (labels) Q956|P18|P25|Q3497052|P6902|Q11094520|Q...\n",
      "www.wikidata.org (labels) P734|P7763|Q31002880|Q11094524|P2600|Q1...\n",
      "en.wikipedia.org (imageinfo) File:明憲宗.jpg\n",
      "Chenghua Emperor (en) data\n",
      "{\n",
      "  aliases: <list(7)> Zhū Jiànshēn, Chun Di, Zhu Jianshen, Xian Zon...\n",
      "  claims: <dict(35)> P22, P21, P40, P53, P214, P244, P27, P569, P5...\n",
      "  description: 9th Emperor of the Ming dynasty (1447-1487)\n",
      "  image: <list(1)> {'file': 'File:明憲宗.jpg', 'kind': 'wikidata-imag...\n",
      "  label: Chenghua Emperor\n",
      "  labels: <dict(89)> Q956, P18, P25, Q3497052, P6902, Q11094520, Q...\n",
      "  modified: <dict(1)> wikidata\n",
      "  requests: <list(4)> wikidata, labels, labels, imageinfo\n",
      "  title: Chenghua_Emperor\n",
      "  what: human\n",
      "  wikibase: Q9991\n",
      "  wikidata: <dict(34)> father (P22), sex or gender (P21), child (P...\n",
      "  wikidata_pageid: 11389\n",
      "  wikidata_url: https://www.wikidata.org/wiki/Q9991\n",
      "}\n",
      "www.wikidata.org (wikidata) Q10411\n",
      "www.wikidata.org (labels) P345|P2031|P18|P1015|Q18844358|P1207|P6...\n",
      "www.wikidata.org (labels) P268|Q6581097|P2032|Q18844372|P3154|P26...\n",
      "en.wikipedia.org (imageinfo) File:Odd Børretzen.jpg\n",
      "Odd Børretzen (en) data\n",
      "{\n",
      "  claims: <dict(40)> P27, P19, P20, P214, P213, P434, P569, P570, ...\n",
      "  description: <str(75)> Norwegian author, illustrator, translator...\n",
      "  image: <list(1)> {'file': 'File:Odd Børretzen.jpg', 'kind': 'wik...\n",
      "  label: Odd Børretzen\n",
      "  labels: <dict(71)> P345, P2031, P18, P1015, Q18844358, P1207, P6...\n",
      "  modified: <dict(1)> wikidata\n",
      "  requests: <list(4)> wikidata, labels, labels, imageinfo\n",
      "  title: Odd_Børretzen\n",
      "  what: human\n",
      "  wikibase: Q10411\n",
      "  wikidata: <dict(40)> country of citizenship (P27), place of birt...\n",
      "  wikidata_pageid: 11825\n",
      "  wikidata_url: https://www.wikidata.org/wiki/Q10411\n",
      "}\n",
      "www.wikidata.org (wikidata) Q765\n",
      "www.wikidata.org (labels) P691|P2031|P18|P1015|P6844|P1207|P2510|...\n",
      "www.wikidata.org (labels) P1273|Q106464765|P3188|P5019|P5068|Q361...\n",
      "www.wikidata.org (labels) P4839|P3987|P227|P950|P906|Q963068|P536...\n",
      "www.wikidata.org (labels) P7704|P8849|P3630|P463|P1695|P650|Q4975...\n",
      "en.wikipedia.org (imageinfo) File:Dario Fo-Cesena.jpg\n",
      "Dario Fo (en) data\n",
      "{\n",
      "  claims: <dict(150)> P26, P40, P166, P373, P106, P244, P214, P227...\n",
      "  description: <str(117)> Italian actor, playwright, comedian, sin...\n",
      "  image: <list(1)> {'file': 'File:Dario Fo-Cesena.jpg', 'kind': 'w...\n",
      "  label: Dario Fo\n",
      "  labels: <dict(200)> P691, P2031, P18, P1015, P6844, P1207, P2510...\n",
      "  modified: <dict(1)> wikidata\n",
      "  requests: <list(6)> wikidata, labels, labels, labels, labels, im...\n",
      "  title: Dario_Fo\n",
      "  what: human\n",
      "  wikibase: Q765\n",
      "  wikidata: <dict(150)> spouse (P26), child (P40), award received ...\n",
      "  wikidata_pageid: 1072\n",
      "  wikidata_url: https://www.wikidata.org/wiki/Q765\n",
      "}\n",
      "www.wikidata.org (wikidata) Q1500\n",
      "www.wikidata.org (labels) P691|Q82955|P18|P25|Q18908018|P1207|P10...\n",
      "www.wikidata.org (labels) Q56487868|Q740855|Q1965049|Q71887839|P5...\n",
      "www.wikidata.org (labels) Q9592|P1017|Q5568313|P9522|Q6581097|P40...\n",
      "www.wikidata.org (labels) Q533235|P27|Q67311526|P8189|P1066|P3241...\n",
      "en.wikipedia.org (imageinfo) File:Jose rizal 01.jpg\n",
      "José Rizal (en) data\n",
      "{\n",
      "  aliases: <list(9)> Jose Rizal, José Protasio Rizal Mercado y Alo...\n",
      "  claims: <dict(117)> P906, P409, P19, P20, P27, P69, P106, P26, P...\n",
      "  description: <str(74)> Filipino writer, nationalist; National He...\n",
      "  image: <list(1)> {'file': 'File:Jose rizal 01.jpg', 'kind': 'wik...\n",
      "  label: José Rizal\n",
      "  labels: <dict(158)> P691, Q82955, P18, P25, Q18908018, P1207, P1...\n",
      "  modified: <dict(1)> wikidata\n",
      "  requests: <list(6)> wikidata, labels, labels, labels, labels, im...\n",
      "  title: José_Rizal\n",
      "  what: human\n",
      "  wikibase: Q1500\n",
      "  wikidata: <dict(117)> SELIBR ID (P906), Libraries Australia ID (...\n",
      "  wikidata_pageid: 1955\n",
      "  wikidata_url: https://www.wikidata.org/wiki/Q1500\n",
      "}\n",
      "www.wikidata.org (wikidata) Q7824\n",
      "www.wikidata.org (labels) P691|Q1103550|P8705|P18|P1015|P6844|P12...\n",
      "www.wikidata.org (labels) Q866498|P7293|Q19219752|P949|P1273|Q842...\n",
      "www.wikidata.org (labels) P1248|P269|P3762|P735|P2342|Q316269|P33...\n",
      "www.wikidata.org (labels) Q51252|P244|P1882|Q214127|P1017|P5273|Q...\n",
      "www.wikidata.org (labels) P136|Q19688260|P3430|P1367|P570|Q152968...\n",
      "en.wikipedia.org (imageinfo) File:Annibale Carracci - Self-portrait.jpg\n",
      "Annibale Carracci (en) data\n",
      "{\n",
      "  aliases: <list(187)> Anibali Caracci, Annibal Le Carrache, Aniba...\n",
      "  claims: <dict(137)> P119, P373, P214, P213, P19, P244, P227, P20...\n",
      "  description: Bolognese painter of the Baroque (1560-1609)\n",
      "  image: <list(1)> {'file': 'File:Annibale Carracci - Self-portrai...\n",
      "  label: Annibale Carracci\n",
      "  labels: <dict(220)> P691, Q1103550, P8705, P18, P1015, P6844, P1...\n",
      "  modified: <dict(1)> wikidata\n",
      "  requests: <list(7)> wikidata, labels, labels, labels, labels, la...\n",
      "  title: Annibale_Carracci\n",
      "  what: human\n",
      "  wikibase: Q7824\n",
      "  wikidata: <dict(137)> place of burial (P119), Commons category (...\n",
      "  wikidata_pageid: 9070\n",
      "  wikidata_url: https://www.wikidata.org/wiki/Q7824\n",
      "}\n",
      "www.wikidata.org (wikidata) Q7814\n",
      "www.wikidata.org (labels) P691|Q1103550|P18|P8406|P6844|P1207|P49...\n",
      "www.wikidata.org (labels) P3569|Q82880|Q842858|P1971|Q40185|Q1643...\n",
      "www.wikidata.org (labels) Q13369|P3222|Q774940|P5597|P271|P906|P9...\n",
      "www.wikidata.org (labels) Q9174954|P1017|P8750|Q163804|Q6581097|Q...\n",
      "www.wikidata.org (labels) P136|Q99586915|P3430|P1367|Q2634|P570|Q...\n",
      "en.wikipedia.org (imageinfo) File:Uffizi Giotto.jpg|File:2016 Uff...\n",
      "Giotto (en) data\n",
      "{\n",
      "  aliases: <list(18)> di Bondone Giotto, Giotto, Giotti, Giotto Di...\n",
      "  claims: <dict(140)> P18, P106, P569, P570, P373, P227, P214, P26...\n",
      "  description: Italian painter and architect\n",
      "  image: <list(2)> {'file': 'File:2016 Uffizi - Great Florentines ...\n",
      "  label: Giotto di Bondone\n",
      "  labels: <dict(220)> P691, Q1103550, P18, P8406, P6844, P1207, P4...\n",
      "  modified: <dict(1)> wikidata\n",
      "  requests: <list(7)> wikidata, labels, labels, labels, labels, la...\n",
      "  title: Giotto\n",
      "  what: human\n",
      "  wikibase: Q7814\n",
      "  wikidata: <dict(140)> image (P18), occupation (P106), date of bi...\n",
      "  wikidata_pageid: 9060\n",
      "  wikidata_url: https://www.wikidata.org/wiki/Q7814\n",
      "}\n",
      "www.wikidata.org (wikidata) Q8506\n",
      "www.wikidata.org (labels) P691|P18|P8406|P6844|P1207|P4927|P800|Q...\n",
      "www.wikidata.org (labels) P7859|P2252|P3348|Q132783|P1580|Q718878...\n",
      "www.wikidata.org (labels) Q163804|Q6581097|Q214867|P7444|P1233|P6...\n",
      "en.wikipedia.org (imageinfo) File:Sodoma - Selfportrait in Monte ...\n",
      "Il Sodoma (en) data\n",
      "{\n",
      "  aliases: <list(30)> Giovanni Antonio Bazzi, Sodoma, Giovanni Ant...\n",
      "  claims: <dict(98)> P106, P373, P214, P213, P244, P227, P19, P20,...\n",
      "  description: Italian Renaissance painter (1477-1549)\n",
      "  image: <list(1)> {'file': 'File:Sodoma - Selfportrait in Monte O...\n",
      "  label: Il Sodoma\n",
      "  labels: <dict(140)> P691, P18, P8406, P6844, P1207, P4927, P800,...\n",
      "  modified: <dict(1)> wikidata\n",
      "  requests: <list(5)> wikidata, labels, labels, labels, imageinfo\n",
      "  title: Il_Sodoma\n",
      "  what: human\n",
      "  wikibase: Q8506\n",
      "  wikidata: <dict(98)> occupation (P106), Commons category (P373),...\n",
      "  wikidata_pageid: 9817\n",
      "  wikidata_url: https://www.wikidata.org/wiki/Q8506\n",
      "}\n",
      "www.wikidata.org (wikidata) Q297\n",
      "www.wikidata.org (labels) P691|Q29|Q2420849|P18|P25|P6844|P1207|P...\n",
      "www.wikidata.org (labels) P9037|P9495|Q1232310|P1477|P648|P5034|P...\n",
      "www.wikidata.org (labels) Q5|P7369|P7859|P2252|P1442|Q3374376|Q18...\n",
      "www.wikidata.org (labels) P950|P227|P3987|P1138|P935|P9164|P1472|...\n",
      "www.wikidata.org (labels) Q51252|Q49135|Q5460604|P244|P1882|P26|P...\n",
      "www.wikidata.org (labels) Q861252|Q2843509|P9493|Q2807|Q208758|P1...\n",
      "www.wikidata.org (labels) Q194533\n",
      "en.wikipedia.org (imageinfo) File:Diego Velázquez Autorretrato 45...\n",
      "Diego Velázquez (en) data\n",
      "{\n",
      "  aliases: <list(120)> Velázquez, Diego Rodríguez de Silva y Veláz...\n",
      "  claims: <dict(193)> P734, P650, P27, P19, P20, P373, P214, P213,...\n",
      "  description: Spanish painter (1599-1660)\n",
      "  image: <list(1)> {'file': 'File:Diego Velázquez Autorretrato 45 ...\n",
      "  label: Diego Velázquez\n",
      "  labels: <dict(301)> P691, Q29, Q2420849, P18, P25, P6844, P1207,...\n",
      "  modified: <dict(1)> wikidata\n",
      "  requests: <list(9)> wikidata, labels, labels, labels, labels, la...\n",
      "  title: Diego_Velázquez\n",
      "  what: human\n",
      "  wikibase: Q297\n",
      "  wikidata: <dict(193)> family name (P734), RKDartists ID (P650), ...\n",
      "  wikidata_pageid: 478\n",
      "  wikidata_url: https://www.wikidata.org/wiki/Q297\n",
      "}\n",
      "www.wikidata.org (wikidata) Q2677\n",
      "www.wikidata.org (labels) P691|Q83969|P1543|Q57621|P8168|P25|P18|...\n",
      "www.wikidata.org (labels) Q3739104|P9037|P9495|Q3026877|Q4173137|...\n",
      "www.wikidata.org (labels) Q699459|P7859|P7369|Q91824|P1442|Q23506...\n",
      "www.wikidata.org (labels) P8235|Q706808|Q50632|Q1126563|P1890|Q94...\n",
      "www.wikidata.org (labels) Q945455|P1263|Q161247|Q86500098|P5504|P...\n",
      "www.wikidata.org (labels) P27|P53|Q67311526|P8189|P1066|P4553|P70...\n",
      "en.wikipedia.org (imageinfo) File:Kaiser Wilhelm II of Germany - ...\n",
      "Wilhelm II, German Emperor (en) data\n",
      "{\n",
      "  aliases: <list(10)> Frederick William Victor Albert of Prussia, ...\n",
      "  claims: <dict(173)> P22, P25, P21, P26, P40, P39, P373, P244, P4...\n",
      "  description: German Emperor and King of Prussia\n",
      "  image: <list(2)> {'file': 'File:Kaiser Wilhelm II of Germany - 1...\n",
      "  label: Wilhelm II\n",
      "  labels: <dict(260)> P691, Q83969, P1543, Q57621, P8168, P25, P18...\n",
      "  modified: <dict(1)> wikidata\n",
      "  requests: <list(8)> wikidata, labels, labels, labels, labels, la...\n",
      "  title: Wilhelm_II,_German_Emperor\n",
      "  what: human\n",
      "  wikibase: Q2677\n",
      "  wikidata: <dict(173)> father (P22), mother (P25), sex or gender ...\n",
      "  wikidata_pageid: 3649\n",
      "  wikidata_url: https://www.wikidata.org/wiki/Q2677\n",
      "}\n",
      "www.wikidata.org (wikidata) Q5233\n",
      "www.wikidata.org (labels) Q7191066|P18|P8406|Q310437|Q2414609|P49...\n",
      "www.wikidata.org (labels) P119|Q576434|P5597|Q201676|P227|P935|Q6...\n",
      "www.wikidata.org (labels) P214|Q142|Q1166840|P535|Q90|Q668411|P13...\n",
      "en.wikipedia.org (imageinfo) File:Picot, François Edouard.jpg|Fil...\n",
      "François-Édouard Picot (en) data\n",
      "{\n",
      "  aliases: <list(6)> François-Edouard Picot, Francois Eduard Picot...\n",
      "  claims: <dict(68)> P19, P373, P214, P213, P227, P20, P268, P269,...\n",
      "  description: French painter (1786-1868)\n",
      "  image: <list(2)> {'file': 'File:François-Edouard Picot BNF Galli...\n",
      "  label: François-Édouard Picot\n",
      "  labels: <dict(119)> Q7191066, P18, P8406, Q310437, Q2414609, P49...\n",
      "  modified: <dict(1)> wikidata\n",
      "  requests: <list(5)> wikidata, labels, labels, labels, imageinfo\n",
      "  title: François-Édouard_Picot\n",
      "  what: human\n",
      "  wikibase: Q5233\n",
      "  wikidata: <dict(68)> place of birth (P19), Commons category (P37...\n",
      "  wikidata_pageid: 6166\n",
      "  wikidata_url: https://www.wikidata.org/wiki/Q5233\n",
      "}\n",
      "www.wikidata.org (wikidata) Q5383\n",
      "www.wikidata.org (labels) P2031|P2604|P800|P8094|P2397|Q16229202|...\n",
      "www.wikidata.org (labels) Q6010|P349|Q27939|P6394|Q383982|P742|Q1...\n",
      "www.wikidata.org (labels) P1273|P8672|P2174|P412|P5019|P7670|Q187...\n",
      "www.wikidata.org (labels) P20|P8971|P135|P1728|P3162|P5287|Q26699...\n",
      "www.wikidata.org (labels) P3569|Q16824068|Q145|P8334|P4342|P8301|...\n",
      "www.wikidata.org (labels) P8849|P5404|P650|P7303|P1828|P3040|P737...\n",
      "www.wikidata.org (labels) Q2733913|P4515|P5247|Q3833781|Q2410029|...\n",
      "www.wikidata.org (labels) P214|P9328|Q52954|Q97285685|P27|Q557632...\n",
      "en.wikipedia.org (imageinfo) File:David-Bowie Chicago 2002-08-08 ...\n",
      "David Bowie (en) data\n",
      "{\n",
      "  aliases: <list(6)> David Robert Jones, David Jones, Bowie, Davy ...\n",
      "  claims: <dict(255)> P31, P19, P26, P214, P227, P269, P244, P268,...\n",
      "  description: British singer, musician, and actor (1947-2016)\n",
      "  image: <list(2)> {'file': 'File:David-Bowie Chicago 2002-08-08 p...\n",
      "  label: David Bowie\n",
      "  labels: <dict(358)> P2031, P2604, P800, P8094, P2397, Q16229202,...\n",
      "  modified: <dict(1)> wikidata\n",
      "  requests: <list(10)> wikidata, labels, labels, labels, labels, l...\n",
      "  title: David_Bowie\n",
      "  what: human\n",
      "  wikibase: Q5383\n",
      "  wikidata: <dict(255)> instance of (P31), place of birth (P19), s...\n",
      "  wikidata_pageid: 6329\n",
      "  wikidata_url: https://www.wikidata.org/wiki/Q5383\n",
      "}\n",
      "www.wikidata.org (wikidata) Q5558\n",
      "www.wikidata.org (labels) Q5475|P650|Q939850|P20|Q4948|P31|P106|Q...\n",
      "Bartolomeo Coghetto (en) data\n",
      "{\n",
      "  aliases: <list(2)> Medoro Coghetti, Medoro Coghetto\n",
      "  claims: <dict(22)> P21, P31, P19, P20, P106, P569, P570, P245, P...\n",
      "  description: Italian painter and musician\n",
      "  label: Bartolomeo Coghetto\n",
      "  labels: <dict(30)> Q5475, P650, Q939850, P20, Q4948, P31, P106, ...\n",
      "  modified: <dict(1)> wikidata\n",
      "  requests: <list(2)> wikidata, labels\n",
      "  title: Bartolomeo_Coghetto\n",
      "  what: human\n",
      "  wikibase: Q5558\n",
      "  wikidata: <dict(22)> sex or gender (P21), instance of (P31), pla...\n",
      "  wikidata_pageid: 6552\n",
      "  wikidata_url: https://www.wikidata.org/wiki/Q5558\n",
      "}\n",
      "www.wikidata.org (wikidata) Q5571\n",
      "www.wikidata.org (labels) P691|P18|P8406|P6844|P1207|P1015|Q78950...\n",
      "www.wikidata.org (labels) Q1157807|Q19219752|Q2044|P949|P1273|Q84...\n",
      "www.wikidata.org (labels) Q671384|P3222|P271|P5597|P906|P950|P227...\n",
      "www.wikidata.org (labels) Q2591247|P8750|Q163804|Q6581097|Q214867...\n",
      "www.wikidata.org (labels) P937|Q15089621|Q67311526|P27|Q1976985|P...\n",
      "en.wikipedia.org (imageinfo) File:Andredelsartoselfportrait.jpeg\n",
      "Andrea del Sarto (en) data\n",
      "{\n",
      "  aliases: <list(123)> Andreas Angeli Francisci, Andrea Delserto, ...\n",
      "  claims: <dict(141)> P1066, P650, P373, P214, P213, P244, P227, P...\n",
      "  description: Italian painter (1486-1530)\n",
      "  image: <list(1)> {'file': 'File:Andredelsartoselfportrait.jpeg',...\n",
      "  label: Andrea del Sarto\n",
      "  labels: <dict(212)> P691, P18, P8406, P6844, P1207, P1015, Q7895...\n",
      "  modified: <dict(1)> wikidata\n",
      "  requests: <list(7)> wikidata, labels, labels, labels, labels, la...\n",
      "  title: Andrea_del_Sarto\n",
      "  what: human\n",
      "  wikibase: Q5571\n",
      "  wikidata: <dict(141)> student of (P1066), RKDartists ID (P650), ...\n",
      "  wikidata_pageid: 6579\n",
      "  wikidata_url: https://www.wikidata.org/wiki/Q5571\n",
      "}\n",
      "www.wikidata.org (wikidata) Q5580\n",
      "www.wikidata.org (labels) Q535910|Q9811|P2431|P800|P6698|Q1851283...\n",
      "www.wikidata.org (labels) P245|P8317|Q18683052|Q160112|P3065|P786...\n",
      "www.wikidata.org (labels) Q15296811|P1005|P268|Q4819492|Q1565911|...\n",
      "www.wikidata.org (labels) P1580|Q1471477|Q134307|Q1700481|P269|Q8...\n",
      "www.wikidata.org (labels) Q1478423|Q371908|P1816|Q2970522|P535|Q7...\n",
      "www.wikidata.org (labels) P3888|Q5503390|Q1028181|P8440|Q78017|P7...\n",
      "www.wikidata.org (labels) Q602358|Q8231161|P8849|P9251|P1695|P650...\n",
      "www.wikidata.org (labels) Q1928672|P3788|P5034|P3029|P434|Q276654...\n",
      "www.wikidata.org (labels) P7763|P7902|P8496|Q18180401|Q154568|Q49...\n",
      "en.wikipedia.org (imageinfo) File:Selbstporträt, by Albrecht Düre...\n",
      "Albrecht Dürer (en) data\n",
      "{\n",
      "  aliases: <list(107)> Dürer, Albert Duur, Albrecht Türer, Albrech...\n",
      "  claims: <dict(254)> P22, P19, P18, P119, P227, P244, P214, P373,...\n",
      "  description: German painter, printmaker, mathematician, and theorist\n",
      "  image: <list(2)> {'file': 'File:Selbstporträt, by Albrecht Dürer...\n",
      "  label: Albrecht Dürer\n",
      "  labels: <dict(442)> Q535910, Q9811, P2431, P800, P6698, Q1851283...\n",
      "  modified: <dict(1)> wikidata\n",
      "  requests: <list(11)> wikidata, labels, labels, labels, labels, l...\n",
      "  title: Albrecht_Dürer\n",
      "  what: human\n",
      "  wikibase: Q5580\n",
      "  wikidata: <dict(254)> father (P22), place of birth (P19), image ...\n",
      "  wikidata_pageid: 6611\n",
      "  wikidata_url: https://www.wikidata.org/wiki/Q5580\n",
      "}\n",
      "www.wikidata.org (wikidata) Q5594\n",
      "www.wikidata.org (labels) P691|P18|P1015|P6844|Q174705|P1207|P840...\n",
      "www.wikidata.org (labels) Q1400853|Q3757770|P4342|Q3905107|Q55033...\n",
      "www.wikidata.org (labels) P5008|P2924|Q95569|P3603|P5321|Q3905124...\n",
      "www.wikidata.org (labels) P6002|P20|Q653002|P135|P22|Q165631|Q158...\n",
      "en.wikipedia.org (imageinfo) File:Antonello da Messina Portrait (...\n",
      "Antonello da Messina (en) data\n",
      "{\n",
      "  aliases: <list(24)> Antonello di Giovanni di Antonio, Antonello ...\n",
      "  claims: <dict(115)> P106, P101, P569, P136, P570, P19, P20, P27,...\n",
      "  description: Italian Renaissance painter (1430-1479)\n",
      "  image: <list(1)> {'file': 'File:Antonello da Messina Portrait (c...\n",
      "  label: Antonello da Messina\n",
      "  labels: <dict(191)> P691, P18, P1015, P6844, Q174705, P1207, P84...\n",
      "  modified: <dict(1)> wikidata\n",
      "  requests: <list(6)> wikidata, labels, labels, labels, labels, im...\n",
      "  title: Antonello_da_Messina\n",
      "  what: human\n",
      "  wikibase: Q5594\n",
      "  wikidata: <dict(115)> occupation (P106), field of work (P101), d...\n",
      "  wikidata_pageid: 6641\n",
      "  wikidata_url: https://www.wikidata.org/wiki/Q5594\n",
      "}\n",
      "www.wikidata.org (wikidata) Q5586\n",
      "www.wikidata.org (labels) P691|Q18738337|Q896052|Q3140127|P18|P10...\n",
      "www.wikidata.org (labels) Q11475750|P101|Q59399443|P434|P4619|Q51...\n",
      "www.wikidata.org (labels) Q1233913|P3065|P8317|P910|Q1117704|Q477...\n",
      "www.wikidata.org (labels) Q1568434|P734|Q2717022|P4491|P8034|P776...\n",
      "www.wikidata.org (labels) P8336|Q751880|P650|P1695|P1263|P7831|P6...\n",
      "www.wikidata.org (labels) Q67311526|P27|Q1976985|P8189|P1066|P218...\n",
      "en.wikipedia.org (imageinfo) File:Hokusai portrait.png\n",
      "Hokusai (en) data\n",
      "{\n",
      "  aliases: <list(19)> Hokusai, Hokusai Katsushika, Taito Katsushik...\n",
      "  claims: <dict(163)> P373, P244, P214, P213, P227, P19, P20, P570...\n",
      "  description: Japanese artist (1760-1849)\n",
      "  image: <list(1)> {'file': 'File:Hokusai portrait.png', 'kind': '...\n",
      "  label: Katsushika Hokusai\n",
      "  labels: <dict(260)> P691, Q18738337, Q896052, Q3140127, P18, P10...\n",
      "  modified: <dict(1)> wikidata\n",
      "  requests: <list(8)> wikidata, labels, labels, labels, labels, la...\n",
      "  title: Hokusai\n",
      "  what: human\n",
      "  wikibase: Q5586\n",
      "  wikidata: <dict(162)> Commons category (P373), Library of Congre...\n",
      "  wikidata_pageid: 6630\n",
      "  wikidata_url: https://www.wikidata.org/wiki/Q5586\n",
      "}\n",
      "www.wikidata.org (wikidata) Q5664\n",
      "www.wikidata.org (labels) P691|P411|P18|P8406|P6844|P1207|P1015|P...\n",
      "www.wikidata.org (labels) P2174|Q842858|P5019|Q131479|Q731126|P83...\n",
      "www.wikidata.org (labels) P1711|Q878678|Q61588|P1248|P269|P3762|P...\n",
      "www.wikidata.org (labels) P7902|P2843|P6683|Q639762|Q1258421|Q812...\n",
      "www.wikidata.org (labels) Q861252|Q165631|Q13453137|Q50001|Q13681...\n",
      "en.wikipedia.org (imageinfo) File:Fra Angelico portrait.jpg\n",
      "Fra Angelico (en) data\n",
      "{\n",
      "  aliases: <list(49)> Guido di Pietro, Fra Giovanni da Fiesole, Fr...\n",
      "  claims: <dict(149)> P650, P21, P373, P106, P411, P19, P20, P214,...\n",
      "  description: Italian Early Renaissance painter\n",
      "  image: <list(1)> {'file': 'File:Fra Angelico portrait.jpg', 'kin...\n",
      "  label: Fra Angelico\n",
      "  labels: <dict(239)> P691, P411, P18, P8406, P6844, P1207, P1015,...\n",
      "  modified: <dict(1)> wikidata\n",
      "  requests: <list(7)> wikidata, labels, labels, labels, labels, la...\n",
      "  title: Fra_Angelico\n",
      "  what: human\n",
      "  wikibase: Q5664\n",
      "  wikidata: <dict(148)> RKDartists ID (P650), sex or gender (P21),...\n",
      "  wikidata_pageid: 6725\n",
      "  wikidata_url: https://www.wikidata.org/wiki/Q5664\n",
      "}\n",
      "www.wikidata.org (wikidata) Q5811\n",
      "www.wikidata.org (labels) P691|P18|P8406|P6844|P1207|P4927|P800|P...\n",
      "www.wikidata.org (labels) P2977|P1580|Q71887839|Q32381|P245|P910|...\n",
      "www.wikidata.org (labels) Q214867|P7444|P409|P7818|P6578|P21|Q602...\n",
      "en.wikipedia.org (imageinfo) File:Masaccio Self Portrait.jpg\n",
      "Masaccio (en) data\n",
      "{\n",
      "  aliases: <list(23)> Tommaso di Ser Giovanni di Simone, Mazachcho...\n",
      "  claims: <dict(105)> P373, P106, P214, P213, P244, P227, P19, P20...\n",
      "  description: Italian painter (1401-1428)\n",
      "  image: <list(1)> {'file': 'File:Masaccio Self Portrait.jpg', 'ki...\n",
      "  label: Masaccio\n",
      "  labels: <dict(145)> P691, P18, P8406, P6844, P1207, P4927, P800,...\n",
      "  modified: <dict(1)> wikidata\n",
      "  requests: <list(5)> wikidata, labels, labels, labels, imageinfo\n",
      "  title: Masaccio\n",
      "  what: human\n",
      "  wikibase: Q5811\n",
      "  wikidata: <dict(105)> Commons category (P373), occupation (P106)...\n",
      "  wikidata_pageid: 6886\n",
      "  wikidata_url: https://www.wikidata.org/wiki/Q5811\n",
      "}\n",
      "www.wikidata.org (wikidata) Q7789\n",
      "www.wikidata.org (labels) Q490|P18|P8406|P6844|P1207|P4927|P800|P...\n",
      "www.wikidata.org (labels) P735|P2342|P3222|P5597|P950|P227|P1472|...\n",
      "www.wikidata.org (labels) P19|P3219|P214|P3430|Q18162836|P1367|P5...\n",
      "en.wikipedia.org (imageinfo) File:Bergognone, Madonna col Bambino.jpg\n",
      "Ambrogio Bergognone (en) data\n",
      "{\n",
      "  aliases: <list(21)> Borgognone, Bergognone, Ambrogio da Fossano ...\n",
      "  claims: <dict(79)> P21, P106, P213, P31, P569, P570, P268, P646,...\n",
      "  description: Italian Renaissance painter\n",
      "  image: <list(1)> {'file': 'File:Bergognone, Madonna col Bambino....\n",
      "  label: Ambrogio Bergognone\n",
      "  labels: <dict(112)> Q490, P18, P8406, P6844, P1207, P4927, P800,...\n",
      "  modified: <dict(1)> wikidata\n",
      "  requests: <list(5)> wikidata, labels, labels, labels, imageinfo\n",
      "  title: Ambrogio_Bergognone\n",
      "  what: human\n",
      "  wikibase: Q7789\n",
      "  wikidata: <dict(79)> sex or gender (P21), occupation (P106), ISN...\n",
      "  wikidata_pageid: 9035\n",
      "  wikidata_url: https://www.wikidata.org/wiki/Q7789\n",
      "}\n",
      "www.wikidata.org (wikidata) Q8511\n",
      "www.wikidata.org (labels) P691|P18|P8406|P6844|P1207|Q461277|P492...\n",
      "www.wikidata.org (labels) Q1700481|Q160112|P910|P2538|P1711|P1248...\n",
      "www.wikidata.org (labels) P3782|Q9213308|P7704|Q1281618|P650|P126...\n",
      "en.wikipedia.org (imageinfo) File:Lorenzo di Credi by Perugino.jpg\n",
      "Lorenzo di Credi (en) data\n",
      "{\n",
      "  aliases: <list(16)> Lorenzo Sciarpelloni, Lorenzo Barducci, Lore...\n",
      "  claims: <dict(92)> P1066, P373, P106, P214, P213, P244, P227, P1...\n",
      "  description: Italian Renaissance painter and sculptor (c.1459-1537)\n",
      "  image: <list(1)> {'file': 'File:Lorenzo di Credi by Perugino.jpg...\n",
      "  label: Lorenzo di Credi\n",
      "  labels: <dict(138)> P691, P18, P8406, P6844, P1207, Q461277, P49...\n",
      "  modified: <dict(1)> wikidata\n",
      "  requests: <list(5)> wikidata, labels, labels, labels, imageinfo\n",
      "  title: Lorenzo_di_Credi\n",
      "  what: human\n",
      "  wikibase: Q8511\n",
      "  wikidata: <dict(92)> student of (P1066), Commons category (P373)...\n",
      "  wikidata_pageid: 9822\n",
      "  wikidata_url: https://www.wikidata.org/wiki/Q8511\n",
      "}\n",
      "www.wikidata.org (wikidata) Q9348\n",
      "www.wikidata.org (labels) P691|Q1103550|P18|P1015|P6844|P1207|P84...\n",
      "www.wikidata.org (labels) P1273|Q842858|P5271|P5019|Q731126|P1417...\n",
      "www.wikidata.org (labels) P950|P227|P3987|P1138|P935|P9164|P1472|...\n",
      "www.wikidata.org (labels) P409|Q1464509|P7818|Q699319|P2041|P21|Q...\n",
      "www.wikidata.org (labels) P8189|P27|P4553|P3241|Q2657718\n",
      "en.wikipedia.org (imageinfo) File:Parmigianino Selfportrait.jpg\n",
      "Parmigianino (en) data\n",
      "{\n",
      "  aliases: <list(175)> Girolamo Francesco Maria Mazzola, Francesco...\n",
      "  claims: <dict(135)> P135, P373, P214, P213, P19, P244, P227, P20...\n",
      "  description: Italian Mannerist painter and printmaker (1503–1540)\n",
      "  image: <list(1)> {'file': 'File:Parmigianino Selfportrait.jpg', ...\n",
      "  label: Parmigianino\n",
      "  labels: <dict(205)> P691, Q1103550, P18, P1015, P6844, P1207, P8...\n",
      "  modified: <dict(1)> wikidata\n",
      "  requests: <list(7)> wikidata, labels, labels, labels, labels, la...\n",
      "  title: Parmigianino\n",
      "  what: human\n",
      "  wikibase: Q9348\n",
      "  wikidata: <dict(135)> movement (P135), Commons category (P373), ...\n",
      "  wikidata_pageid: 10714\n",
      "  wikidata_url: https://www.wikidata.org/wiki/Q9348\n",
      "}\n",
      "www.wikidata.org (wikidata) Q9994\n",
      "www.wikidata.org (labels) Q16603690|Q956|P18|P25|Q3497052|P646|Q1...\n",
      "www.wikidata.org (labels) Q11071759|Q71887839|P2163|P244|P26|P570...\n",
      "en.wikipedia.org (imageinfo) File:明孝宗.jpg\n",
      "Hongzhi Emperor (en) data\n",
      "{\n",
      "  aliases: <list(6)> Zhu Youcheng, Datianmingdaochunchengzhongzhen...\n",
      "  claims: <dict(35)> P22, P21, P214, P244, P569, P570, P373, P31, ...\n",
      "  description: 9th emperor of the Ming Dynasty (1470-1505)\n",
      "  image: <list(1)> {'file': 'File:明孝宗.jpg', 'kind': 'wikidata-imag...\n",
      "  label: Hongzhi Emperor\n",
      "  labels: <dict(72)> Q16603690, Q956, P18, P25, Q3497052, P646, Q1...\n",
      "  modified: <dict(1)> wikidata\n",
      "  requests: <list(4)> wikidata, labels, labels, imageinfo\n",
      "  title: Hongzhi_Emperor\n",
      "  what: human\n",
      "  wikibase: Q9994\n",
      "  wikidata: <dict(34)> father (P22), sex or gender (P21), VIAF ID ...\n",
      "  wikidata_pageid: 11392\n",
      "  wikidata_url: https://www.wikidata.org/wiki/Q9994\n",
      "}\n",
      "www.wikidata.org (wikidata) Q7770\n",
      "www.wikidata.org (labels) P18|P8406|P1207|P4927|P800|P3965|P9081|...\n",
      "www.wikidata.org (labels) P269|P735|P2342|P3365|P3222|P5597|P227|...\n",
      "www.wikidata.org (labels) P9493|P19|P214|Q99980736|P136|P3430|P13...\n",
      "en.wikipedia.org (imageinfo) File:Bacchiacca - Scenes from the St...\n",
      "Francesco Bacchiacca (en) data\n",
      "{\n",
      "  aliases: <list(25)> Francesco d'Ubertino Verdi, Bachiacca, Franc...\n",
      "  claims: <dict(77)> P106, P800, P373, P214, P213, P20, P227, P244...\n",
      "  description: Italian Renaissance painter (1494-1557)\n",
      "  image: <list(1)> {'file': 'File:Bacchiacca - Scenes from the Sto...\n",
      "  label: Francesco Bacchiacca\n",
      "  labels: <dict(113)> P18, P8406, P1207, P4927, P800, P3965, P9081...\n",
      "  modified: <dict(1)> wikidata\n",
      "  requests: <list(5)> wikidata, labels, labels, labels, imageinfo\n",
      "  title: Francesco_Bacchiacca\n",
      "  what: human\n",
      "  wikibase: Q7770\n",
      "  wikidata: <dict(77)> occupation (P106), notable work (P800), Com...\n",
      "  wikidata_pageid: 9016\n",
      "  wikidata_url: https://www.wikidata.org/wiki/Q7770\n",
      "}\n",
      "www.wikidata.org (wikidata) Q5827\n",
      "www.wikidata.org (labels) P691|Q1103550|P18|P1015|Q3905109|P1207|...\n",
      "www.wikidata.org (labels) P5587|P802|P1422|Q182955|Q20409|P3888|Q...\n",
      "www.wikidata.org (labels) Q239303|P5008|P2924|Q95569|P3603|Q19529...\n",
      "www.wikidata.org (labels) P6002|P20|P135|Q861252|Q165631|P9493|Q1...\n",
      "en.wikipedia.org (imageinfo) File:Pietro Perugino 031.jpg|File:Au...\n",
      "Pietro Perugino (en) data\n",
      "{\n",
      "  aliases: <list(81)> Pietro Vannucci, Perugino, Pietro di Cristof...\n",
      "  claims: <dict(106)> P1066, P135, P21, P373, P106, P19, P227, P24...\n",
      "  description: Italian Renaissance painter of the Umbrian school (...\n",
      "  image: <list(3)> {'file': 'File:Pietro Perugino 031.jpg', 'kind'...\n",
      "  label: Pietro Perugino\n",
      "  labels: <dict(182)> P691, Q1103550, P18, P1015, Q3905109, P1207,...\n",
      "  modified: <dict(1)> wikidata\n",
      "  requests: <list(6)> wikidata, labels, labels, labels, labels, im...\n",
      "  title: Pietro_Perugino\n",
      "  what: human\n",
      "  wikibase: Q5827\n",
      "  wikidata: <dict(106)> student of (P1066), movement (P135), sex o...\n",
      "  wikidata_pageid: 6904\n",
      "  wikidata_url: https://www.wikidata.org/wiki/Q5827\n",
      "}\n",
      "www.wikidata.org (wikidata) Q7799\n",
      "www.wikidata.org (labels) Q490|P18|P8406|P2431|P800|P3965|P31|Q11...\n",
      "www.wikidata.org (labels) P5508|P3365|P3222|P5597|P3987|P906|P227...\n",
      "www.wikidata.org (labels) P737|P1296|P1343|P19|Q628|P214|P781|P13...\n",
      "en.wikipedia.org (imageinfo) File:Bram0.5.jpg\n",
      "Bramantino (en) data\n",
      "{\n",
      "  aliases: <list(12)> Bartolomeo Suardi, Bartolommeo Suardi, Brama...\n",
      "  claims: <dict(85)> P106, P373, P19, P214, P227, P244, P213, P31,...\n",
      "  description: Italian painter and architect\n",
      "  image: <list(1)> {'file': 'File:Bram0.5.jpg', 'kind': 'wikidata-...\n",
      "  label: Bramantino\n",
      "  labels: <dict(118)> Q490, P18, P8406, P2431, P800, P3965, P31, Q...\n",
      "  modified: <dict(1)> wikidata\n",
      "  requests: <list(5)> wikidata, labels, labels, labels, imageinfo\n",
      "  title: Bramantino\n",
      "  what: human\n",
      "  wikibase: Q7799\n",
      "  wikidata: <dict(85)> occupation (P106), Commons category (P373),...\n",
      "  wikidata_pageid: 9045\n",
      "  wikidata_url: https://www.wikidata.org/wiki/Q7799\n",
      "}\n",
      "www.wikidata.org (wikidata) Q5577\n",
      "www.wikidata.org (labels) P2031|P2604|P2431|P800|P6698|Q11629|P17...\n",
      "www.wikidata.org (labels) Q3073273|Q1925963|P4145|P2011|P349|Q265...\n",
      "www.wikidata.org (labels) P6379|P1977|P5368|Q2842816|Q17365974|P2...\n",
      "www.wikidata.org (labels) Q25729|P8034|Q679527|P1412|P2843|Q30754...\n",
      "www.wikidata.org (labels) P18|P1015|P3361|P3965|Q188740|P9081|Q17...\n",
      "www.wikidata.org (labels) P2435|P734|P6683|Q58481938|P9179|Q18985...\n",
      "www.wikidata.org (labels) P3791|P5063|P9049|Q160236|P2048|Q106806...\n",
      "www.wikidata.org (labels) Q4801318|P1017|P5273|P8750|P4772|P7444|...\n",
      "en.wikipedia.org (imageinfo) File:Dali Allan Warren.jpg\n",
      "Salvador Dalí (en) data\n",
      "{\n",
      "  aliases: <list(23)> Salvador Dalí Domènech, Salvador Felipe Jaci...\n",
      "  claims: <dict(253)> P650, P345, P27, P19, P20, P106, P26, P244, ...\n",
      "  description: Spanish artist (1904-1989)\n",
      "  image: <list(1)> {'file': 'File:Dali Allan Warren.jpg', 'kind': ...\n",
      "  label: Salvador Dalí\n",
      "  labels: <dict(390)> P2031, P2604, P2431, P800, P6698, Q11629, P1...\n",
      "  modified: <dict(1)> wikidata\n",
      "  requests: <list(10)> wikidata, labels, labels, labels, labels, l...\n",
      "  title: Salvador_Dalí\n",
      "  what: human\n",
      "  wikibase: Q5577\n",
      "  wikidata: <dict(253)> RKDartists ID (P650), IMDb ID (P345), coun...\n",
      "  wikidata_pageid: 6600\n",
      "  wikidata_url: https://www.wikidata.org/wiki/Q5577\n",
      "}\n"
     ]
    },
    {
     "name": "stdout",
     "output_type": "stream",
     "text": [
      ">>>>> painters infos have been retrieved !\n"
     ]
    },
    {
     "name": "stderr",
     "output_type": "stream",
     "text": [
      "www.wikidata.org (wikidata) L488307\n"
     ]
    },
    {
     "ename": "LookupError",
     "evalue": "wikidata item L488307 has been deleted",
     "output_type": "error",
     "traceback": [
      "\u001b[0;31m---------------------------------------------------------------------------\u001b[0m",
      "\u001b[0;31mLookupError\u001b[0m                               Traceback (most recent call last)",
      "\u001b[0;32m<ipython-input-26-0334bae1b144>\u001b[0m in \u001b[0;36m<module>\u001b[0;34m\u001b[0m\n\u001b[0;32m----> 1\u001b[0;31m \u001b[0martists_data\u001b[0m \u001b[0;34m=\u001b[0m \u001b[0mtype_data\u001b[0m\u001b[0;34m(\u001b[0m\u001b[0mtype_dic\u001b[0m\u001b[0;34m=\u001b[0m\u001b[0martists\u001b[0m\u001b[0;34m,\u001b[0m \u001b[0mtype_letter\u001b[0m\u001b[0;34m=\u001b[0m\u001b[0;34m'A'\u001b[0m\u001b[0;34m,\u001b[0m \u001b[0mk\u001b[0m\u001b[0;34m=\u001b[0m\u001b[0;36m30\u001b[0m\u001b[0;34m)\u001b[0m\u001b[0;34m\u001b[0m\u001b[0;34m\u001b[0m\u001b[0m\n\u001b[0m\u001b[1;32m      2\u001b[0m \u001b[0martists_df\u001b[0m \u001b[0;34m=\u001b[0m \u001b[0mpd\u001b[0m\u001b[0;34m.\u001b[0m\u001b[0mDataFrame\u001b[0m\u001b[0;34m(\u001b[0m\u001b[0martists_data\u001b[0m\u001b[0;34m,\u001b[0m \u001b[0mcolumns\u001b[0m\u001b[0;34m=\u001b[0m\u001b[0;34m[\u001b[0m\u001b[0;34m'title'\u001b[0m\u001b[0;34m,\u001b[0m\u001b[0;34m'wd'\u001b[0m\u001b[0;34m,\u001b[0m\u001b[0;34m'type'\u001b[0m\u001b[0;34m,\u001b[0m\u001b[0;34m'cat'\u001b[0m\u001b[0;34m,\u001b[0m\u001b[0;34m'description'\u001b[0m\u001b[0;34m,\u001b[0m\u001b[0;34m'text'\u001b[0m\u001b[0;34m]\u001b[0m\u001b[0;34m)\u001b[0m\u001b[0;34m\u001b[0m\u001b[0;34m\u001b[0m\u001b[0m\n\u001b[1;32m      3\u001b[0m \u001b[0martists_df\u001b[0m\u001b[0;34m.\u001b[0m\u001b[0mhead\u001b[0m\u001b[0;34m(\u001b[0m\u001b[0;34m)\u001b[0m\u001b[0;34m\u001b[0m\u001b[0;34m\u001b[0m\u001b[0m\n",
      "\u001b[0;32m<ipython-input-23-3d82a03f6b9d>\u001b[0m in \u001b[0;36mtype_data\u001b[0;34m(type_dic, type_letter, k)\u001b[0m\n\u001b[1;32m      7\u001b[0m     \u001b[0;32mfor\u001b[0m \u001b[0mcategory\u001b[0m\u001b[0;34m,\u001b[0m \u001b[0mwd\u001b[0m \u001b[0;32min\u001b[0m \u001b[0mtype_dic\u001b[0m\u001b[0;34m.\u001b[0m\u001b[0mitems\u001b[0m\u001b[0;34m(\u001b[0m\u001b[0;34m)\u001b[0m\u001b[0;34m:\u001b[0m\u001b[0;34m\u001b[0m\u001b[0;34m\u001b[0m\u001b[0m\n\u001b[1;32m      8\u001b[0m         \u001b[0mL\u001b[0m \u001b[0;34m=\u001b[0m \u001b[0mlist_wd_category\u001b[0m\u001b[0;34m(\u001b[0m\u001b[0mwd\u001b[0m\u001b[0;34m)\u001b[0m   \u001b[0;31m# retrieves a list of wds\u001b[0m\u001b[0;34m\u001b[0m\u001b[0;34m\u001b[0m\u001b[0m\n\u001b[0;32m----> 9\u001b[0;31m         \u001b[0mcatList\u001b[0m \u001b[0;34m=\u001b[0m \u001b[0mcat_list\u001b[0m\u001b[0;34m(\u001b[0m\u001b[0mL\u001b[0m\u001b[0;34m,\u001b[0m \u001b[0mcategory\u001b[0m\u001b[0;34m,\u001b[0m \u001b[0mk\u001b[0m\u001b[0;34m)\u001b[0m\u001b[0;34m\u001b[0m\u001b[0;34m\u001b[0m\u001b[0m\n\u001b[0m\u001b[1;32m     10\u001b[0m \u001b[0;34m\u001b[0m\u001b[0m\n\u001b[1;32m     11\u001b[0m         \u001b[0;31m# add the type letter\u001b[0m\u001b[0;34m\u001b[0m\u001b[0;34m\u001b[0m\u001b[0;34m\u001b[0m\u001b[0m\n",
      "\u001b[0;32m<ipython-input-18-98342162d884>\u001b[0m in \u001b[0;36mcat_list\u001b[0;34m(l, cat_name, k)\u001b[0m\n\u001b[1;32m      9\u001b[0m \u001b[0;34m\u001b[0m\u001b[0m\n\u001b[1;32m     10\u001b[0m         \u001b[0mperson_wd\u001b[0m \u001b[0;34m=\u001b[0m \u001b[0ml\u001b[0m\u001b[0;34m[\u001b[0m\u001b[0mi\u001b[0m\u001b[0;34m]\u001b[0m\u001b[0;34m\u001b[0m\u001b[0;34m\u001b[0m\u001b[0m\n\u001b[0;32m---> 11\u001b[0;31m         \u001b[0mperson\u001b[0m \u001b[0;34m=\u001b[0m \u001b[0mperson_info\u001b[0m\u001b[0;34m(\u001b[0m\u001b[0mperson_wd\u001b[0m\u001b[0;34m)\u001b[0m  \u001b[0;31m# dictionary of person's info\u001b[0m\u001b[0;34m\u001b[0m\u001b[0;34m\u001b[0m\u001b[0m\n\u001b[0m\u001b[1;32m     12\u001b[0m         \u001b[0mi\u001b[0m \u001b[0;34m+=\u001b[0m \u001b[0;36m1\u001b[0m\u001b[0;34m\u001b[0m\u001b[0;34m\u001b[0m\u001b[0m\n\u001b[1;32m     13\u001b[0m \u001b[0;34m\u001b[0m\u001b[0m\n",
      "\u001b[0;32m<ipython-input-16-4205651ec286>\u001b[0m in \u001b[0;36mperson_info\u001b[0;34m(wd, n)\u001b[0m\n\u001b[1;32m      7\u001b[0m     \u001b[0;31m# get wikidata\u001b[0m\u001b[0;34m\u001b[0m\u001b[0;34m\u001b[0m\u001b[0;34m\u001b[0m\u001b[0m\n\u001b[1;32m      8\u001b[0m     \u001b[0mpage\u001b[0m \u001b[0;34m=\u001b[0m \u001b[0mwptools\u001b[0m\u001b[0;34m.\u001b[0m\u001b[0mpage\u001b[0m\u001b[0;34m(\u001b[0m\u001b[0mwikibase\u001b[0m\u001b[0;34m=\u001b[0m\u001b[0mwd\u001b[0m\u001b[0;34m)\u001b[0m\u001b[0;34m\u001b[0m\u001b[0;34m\u001b[0m\u001b[0m\n\u001b[0;32m----> 9\u001b[0;31m     \u001b[0mpage\u001b[0m\u001b[0;34m.\u001b[0m\u001b[0mget_wikidata\u001b[0m\u001b[0;34m(\u001b[0m\u001b[0;34m)\u001b[0m\u001b[0;34m\u001b[0m\u001b[0;34m\u001b[0m\u001b[0m\n\u001b[0m\u001b[1;32m     10\u001b[0m \u001b[0;34m\u001b[0m\u001b[0m\n\u001b[1;32m     11\u001b[0m     \u001b[0;31m# add informations to dict person\u001b[0m\u001b[0;34m\u001b[0m\u001b[0;34m\u001b[0m\u001b[0;34m\u001b[0m\u001b[0m\n",
      "\u001b[0;32m~/opt/anaconda3/lib/python3.7/site-packages/wptools/wikidata.py\u001b[0m in \u001b[0;36mget_wikidata\u001b[0;34m(self, show, proxy, timeout)\u001b[0m\n\u001b[1;32m    325\u001b[0m             \u001b[0;32mraise\u001b[0m \u001b[0mLookupError\u001b[0m\u001b[0;34m(\u001b[0m\u001b[0merr\u001b[0m\u001b[0;34m)\u001b[0m\u001b[0;34m\u001b[0m\u001b[0;34m\u001b[0m\u001b[0m\n\u001b[1;32m    326\u001b[0m \u001b[0;34m\u001b[0m\u001b[0m\n\u001b[0;32m--> 327\u001b[0;31m         \u001b[0mself\u001b[0m\u001b[0;34m.\u001b[0m\u001b[0m_get\u001b[0m\u001b[0;34m(\u001b[0m\u001b[0;34m'wikidata'\u001b[0m\u001b[0;34m,\u001b[0m \u001b[0mshow\u001b[0m\u001b[0;34m,\u001b[0m \u001b[0mproxy\u001b[0m\u001b[0;34m,\u001b[0m \u001b[0mtimeout\u001b[0m\u001b[0;34m)\u001b[0m\u001b[0;34m\u001b[0m\u001b[0;34m\u001b[0m\u001b[0m\n\u001b[0m\u001b[1;32m    328\u001b[0m \u001b[0;34m\u001b[0m\u001b[0m\n\u001b[1;32m    329\u001b[0m         \u001b[0;32mreturn\u001b[0m \u001b[0mself\u001b[0m\u001b[0;34m\u001b[0m\u001b[0;34m\u001b[0m\u001b[0m\n",
      "\u001b[0;32m~/opt/anaconda3/lib/python3.7/site-packages/wptools/core.py\u001b[0m in \u001b[0;36m_get\u001b[0;34m(self, action, show, proxy, timeout)\u001b[0m\n\u001b[1;32m    181\u001b[0m         \u001b[0mself\u001b[0m\u001b[0;34m.\u001b[0m\u001b[0mdata\u001b[0m\u001b[0;34m[\u001b[0m\u001b[0;34m'requests'\u001b[0m\u001b[0;34m]\u001b[0m\u001b[0;34m.\u001b[0m\u001b[0mappend\u001b[0m\u001b[0;34m(\u001b[0m\u001b[0maction\u001b[0m\u001b[0;34m)\u001b[0m\u001b[0;34m\u001b[0m\u001b[0;34m\u001b[0m\u001b[0m\n\u001b[1;32m    182\u001b[0m \u001b[0;34m\u001b[0m\u001b[0m\n\u001b[0;32m--> 183\u001b[0;31m         \u001b[0mself\u001b[0m\u001b[0;34m.\u001b[0m\u001b[0m_set_data\u001b[0m\u001b[0;34m(\u001b[0m\u001b[0maction\u001b[0m\u001b[0;34m)\u001b[0m\u001b[0;34m\u001b[0m\u001b[0;34m\u001b[0m\u001b[0m\n\u001b[0m\u001b[1;32m    184\u001b[0m \u001b[0;34m\u001b[0m\u001b[0m\n\u001b[1;32m    185\u001b[0m         \u001b[0;32mif\u001b[0m \u001b[0mshow\u001b[0m \u001b[0;32mand\u001b[0m \u001b[0;32mnot\u001b[0m \u001b[0mself\u001b[0m\u001b[0;34m.\u001b[0m\u001b[0mflags\u001b[0m\u001b[0;34m.\u001b[0m\u001b[0mget\u001b[0m\u001b[0;34m(\u001b[0m\u001b[0;34m'silent'\u001b[0m\u001b[0;34m)\u001b[0m\u001b[0;34m:\u001b[0m\u001b[0;34m\u001b[0m\u001b[0;34m\u001b[0m\u001b[0m\n",
      "\u001b[0;32m~/opt/anaconda3/lib/python3.7/site-packages/wptools/page.py\u001b[0m in \u001b[0;36m_set_data\u001b[0;34m(self, action)\u001b[0m\n\u001b[1;32m    208\u001b[0m             \u001b[0mself\u001b[0m\u001b[0;34m.\u001b[0m\u001b[0m_set_labels\u001b[0m\u001b[0;34m(\u001b[0m\u001b[0;34m)\u001b[0m\u001b[0;34m\u001b[0m\u001b[0;34m\u001b[0m\u001b[0m\n\u001b[1;32m    209\u001b[0m         \u001b[0;32melif\u001b[0m \u001b[0maction\u001b[0m \u001b[0;34m==\u001b[0m \u001b[0;34m'wikidata'\u001b[0m\u001b[0;34m:\u001b[0m\u001b[0;34m\u001b[0m\u001b[0;34m\u001b[0m\u001b[0m\n\u001b[0;32m--> 210\u001b[0;31m             \u001b[0mself\u001b[0m\u001b[0;34m.\u001b[0m\u001b[0m_set_wikidata\u001b[0m\u001b[0;34m(\u001b[0m\u001b[0;34m)\u001b[0m\u001b[0;34m\u001b[0m\u001b[0;34m\u001b[0m\u001b[0m\n\u001b[0m\u001b[1;32m    211\u001b[0m             \u001b[0mself\u001b[0m\u001b[0;34m.\u001b[0m\u001b[0mget_labels\u001b[0m\u001b[0;34m(\u001b[0m\u001b[0;34m)\u001b[0m\u001b[0;34m\u001b[0m\u001b[0;34m\u001b[0m\u001b[0m\n\u001b[1;32m    212\u001b[0m         \u001b[0;32melif\u001b[0m \u001b[0maction\u001b[0m \u001b[0;34m==\u001b[0m \u001b[0;34m'restbase'\u001b[0m\u001b[0;34m:\u001b[0m\u001b[0;34m\u001b[0m\u001b[0;34m\u001b[0m\u001b[0m\n",
      "\u001b[0;32m~/opt/anaconda3/lib/python3.7/site-packages/wptools/wikidata.py\u001b[0m in \u001b[0;36m_set_wikidata\u001b[0;34m(self)\u001b[0m\n\u001b[1;32m    160\u001b[0m         \u001b[0mself\u001b[0m\u001b[0;34m.\u001b[0m\u001b[0mdata\u001b[0m\u001b[0;34m[\u001b[0m\u001b[0;34m'wikidata'\u001b[0m\u001b[0;34m]\u001b[0m \u001b[0;34m=\u001b[0m \u001b[0;34m{\u001b[0m\u001b[0;34m}\u001b[0m\u001b[0;34m\u001b[0m\u001b[0;34m\u001b[0m\u001b[0m\n\u001b[1;32m    161\u001b[0m \u001b[0;34m\u001b[0m\u001b[0m\n\u001b[0;32m--> 162\u001b[0;31m         \u001b[0mdata\u001b[0m \u001b[0;34m=\u001b[0m \u001b[0mself\u001b[0m\u001b[0;34m.\u001b[0m\u001b[0m_load_response\u001b[0m\u001b[0;34m(\u001b[0m\u001b[0;34m'wikidata'\u001b[0m\u001b[0;34m)\u001b[0m\u001b[0;34m\u001b[0m\u001b[0;34m\u001b[0m\u001b[0m\n\u001b[0m\u001b[1;32m    163\u001b[0m         \u001b[0mentities\u001b[0m \u001b[0;34m=\u001b[0m \u001b[0mdata\u001b[0m\u001b[0;34m.\u001b[0m\u001b[0mget\u001b[0m\u001b[0;34m(\u001b[0m\u001b[0;34m'entities'\u001b[0m\u001b[0;34m)\u001b[0m\u001b[0;34m\u001b[0m\u001b[0;34m\u001b[0m\u001b[0m\n\u001b[1;32m    164\u001b[0m         \u001b[0mitem\u001b[0m \u001b[0;34m=\u001b[0m \u001b[0mentities\u001b[0m\u001b[0;34m.\u001b[0m\u001b[0mget\u001b[0m\u001b[0;34m(\u001b[0m\u001b[0mnext\u001b[0m\u001b[0;34m(\u001b[0m\u001b[0miter\u001b[0m\u001b[0;34m(\u001b[0m\u001b[0mentities\u001b[0m\u001b[0;34m)\u001b[0m\u001b[0;34m)\u001b[0m\u001b[0;34m)\u001b[0m\u001b[0;34m\u001b[0m\u001b[0;34m\u001b[0m\u001b[0m\n",
      "\u001b[0;32m~/opt/anaconda3/lib/python3.7/site-packages/wptools/core.py\u001b[0m in \u001b[0;36m_load_response\u001b[0;34m(self, action)\u001b[0m\n\u001b[1;32m    220\u001b[0m \u001b[0;34m\u001b[0m\u001b[0m\n\u001b[1;32m    221\u001b[0m         \u001b[0;32mif\u001b[0m \u001b[0maction\u001b[0m \u001b[0;34m==\u001b[0m \u001b[0;34m'wikidata'\u001b[0m\u001b[0;34m:\u001b[0m\u001b[0;34m\u001b[0m\u001b[0;34m\u001b[0m\u001b[0m\n\u001b[0;32m--> 222\u001b[0;31m             \u001b[0mhandle_wikidata_errors\u001b[0m\u001b[0;34m(\u001b[0m\u001b[0mdata\u001b[0m\u001b[0;34m,\u001b[0m \u001b[0m_query\u001b[0m\u001b[0;34m)\u001b[0m\u001b[0;34m\u001b[0m\u001b[0;34m\u001b[0m\u001b[0m\n\u001b[0m\u001b[1;32m    223\u001b[0m \u001b[0;34m\u001b[0m\u001b[0m\n\u001b[1;32m    224\u001b[0m         \u001b[0;32mreturn\u001b[0m \u001b[0mdata\u001b[0m\u001b[0;34m\u001b[0m\u001b[0;34m\u001b[0m\u001b[0m\n",
      "\u001b[0;32m~/opt/anaconda3/lib/python3.7/site-packages/wptools/core.py\u001b[0m in \u001b[0;36mhandle_wikidata_errors\u001b[0;34m(data, query)\u001b[0m\n\u001b[1;32m    306\u001b[0m         \u001b[0;32mif\u001b[0m \u001b[0;34m'missing'\u001b[0m \u001b[0;32min\u001b[0m \u001b[0mitem\u001b[0m\u001b[0;34m:\u001b[0m\u001b[0;34m\u001b[0m\u001b[0;34m\u001b[0m\u001b[0m\n\u001b[1;32m    307\u001b[0m             \u001b[0merrmsg\u001b[0m \u001b[0;34m=\u001b[0m \u001b[0;34m\"wikidata item %s has been deleted\"\u001b[0m \u001b[0;34m%\u001b[0m \u001b[0mitem\u001b[0m\u001b[0;34m[\u001b[0m\u001b[0;34m'id'\u001b[0m\u001b[0;34m]\u001b[0m\u001b[0;34m\u001b[0m\u001b[0;34m\u001b[0m\u001b[0m\n\u001b[0;32m--> 308\u001b[0;31m             \u001b[0;32mraise\u001b[0m \u001b[0mLookupError\u001b[0m\u001b[0;34m(\u001b[0m\u001b[0merrmsg\u001b[0m\u001b[0;34m)\u001b[0m\u001b[0;34m\u001b[0m\u001b[0;34m\u001b[0m\u001b[0m\n\u001b[0m\u001b[1;32m    309\u001b[0m \u001b[0;34m\u001b[0m\u001b[0m\n\u001b[1;32m    310\u001b[0m \u001b[0;34m\u001b[0m\u001b[0m\n",
      "\u001b[0;31mLookupError\u001b[0m: wikidata item L488307 has been deleted"
     ]
    }
   ],
   "source": [
    "artists_data = type_data(type_dic=artists, type_letter='A', k=30)\n",
    "artists_df = pd.DataFrame(artists_data, columns=['title','wd','type','cat','description','text'])\n",
    "artists_df.head()"
   ]
  },
  {
   "cell_type": "code",
   "execution_count": null,
   "metadata": {},
   "outputs": [],
   "source": [
    "non_artists_data = type_data(type_dic=non_artists, type_letter='Z', k=30)\n",
    "non_artists_df = pd.DataFrame(non_artists_data, columns=['title','wd','type','cat','description','text'])\n",
    "non_artists_df.head()"
   ]
  },
  {
   "cell_type": "markdown",
   "metadata": {},
   "source": [
    "**dataframe**"
   ]
  },
  {
   "cell_type": "code",
   "execution_count": null,
   "metadata": {},
   "outputs": [],
   "source": [
    "data = pd.concat([artists_df,non_artists_df], axis=0)\n",
    "data.head()"
   ]
  },
  {
   "cell_type": "code",
   "execution_count": null,
   "metadata": {},
   "outputs": [],
   "source": [
    "data.to_csv('data.csv')"
   ]
  },
  {
   "cell_type": "markdown",
   "metadata": {},
   "source": [
    "<div class='alert alert-success'><h1> Part 2 : Pre-processing, Clustering and Classifying</h1></div>"
   ]
  },
  {
   "cell_type": "markdown",
   "metadata": {},
   "source": [
    "#### Pre-processing"
   ]
  },
  {
   "cell_type": "code",
   "execution_count": null,
   "metadata": {},
   "outputs": [],
   "source": [
    "data = pd.read_csv('data.csv', index_col=0)\n",
    "data.head()"
   ]
  },
  {
   "cell_type": "markdown",
   "metadata": {},
   "source": [
    "**Contractions to expantions**"
   ]
  },
  {
   "cell_type": "code",
   "execution_count": null,
   "metadata": {},
   "outputs": [],
   "source": [
    "!pip3 install contractions "
   ]
  },
  {
   "cell_type": "code",
   "execution_count": null,
   "metadata": {},
   "outputs": [],
   "source": [
    "#https://www.geeksforgeeks.org/nlp-expand-contractions-in-text-processing/\n",
    "import contractions\n",
    "def cont2expand(text):\n",
    "    '''\n",
    "        convert contractions in a text into expantions \n",
    "    '''\n",
    "    expanded_words = []    \n",
    "    for word in text.split():\n",
    "        expanded_words.append(contractions.fix(word))   \n",
    "    expanded_text = ' '.join(expanded_words)\n",
    "    return expanded_text"
   ]
  },
  {
   "cell_type": "markdown",
   "metadata": {},
   "source": [
    "**Lemmatization**"
   ]
  },
  {
   "cell_type": "code",
   "execution_count": null,
   "metadata": {},
   "outputs": [],
   "source": [
    "from nltk.stem import WordNetLemmatizer\n",
    "def lemmatization(tokens):\n",
    "    '''\n",
    "        lemmatize tokens and returns a list of lemmatized tokens \n",
    "    '''\n",
    "    lemmatizer = WordNetLemmatizer()\n",
    "    return [lemmatizer.lemmatize(token) for token in tokens]"
   ]
  },
  {
   "cell_type": "code",
   "execution_count": null,
   "metadata": {},
   "outputs": [],
   "source": [
    "def preprocessing(text):\n",
    "    '''\n",
    "        Preprocess text (string) : Remove Punctuation, Tokenization, Lowercase, Remove Stopwords, Contractions to Expantions \n",
    "    '''\n",
    "    \n",
    "    # remove punctuation except '-'\n",
    "    punc = string.punctuation.replace('-','') \n",
    "    text = \"\".join([char for char in text if char not in punc])\n",
    "    \n",
    "    # Contractions > Expantions \n",
    "    text = cont2expand(text)\n",
    "    \n",
    "    # tokenization \n",
    "    tokens = nltk.word_tokenize(text)\n",
    "    \n",
    "    # lowercase tokens  \n",
    "    tokens = [x.lower() for x in tokens]\n",
    "    \n",
    "    # remove stopwords \n",
    "    tokens = [x for x in tokens if not x in stopwords.words('english')]\n",
    "    \n",
    "    # lemmatization \n",
    "    tokens = lemmatization(tokens)\n",
    "    \n",
    "    return \" \".join(tokens)"
   ]
  },
  {
   "cell_type": "code",
   "execution_count": null,
   "metadata": {},
   "outputs": [],
   "source": [
    "%%time \n",
    "\n",
    "person = data['title']\n",
    "wikipedia = data['text']\n",
    "wikipedia_after_pre = data['text'].apply(preprocessing)  # preprocessing \n",
    "wikidata = data['description']\n",
    "wikidata_after_pre = data['description'].apply(preprocessing)  # preprocessing\n",
    "wiki_combined = df['Wikipedia_cleaned'].astype(str) + ' ' + df['Wikidata_cleaned'].astype(str)"
   ]
  },
  {
   "cell_type": "code",
   "execution_count": null,
   "metadata": {},
   "outputs": [],
   "source": [
    "dic = {'Person':person,\n",
    "       'Wikipedia':wikipedia,\n",
    "       'Wikipedia_cleaned':wikipedia_after_pre,\n",
    "       'Wikidata':wikidata,\n",
    "       'Wikidata_cleaned':wikidata_after_pre,\n",
    "       'Wiki_combined':wiki_combined}\n",
    "df = pd.DataFrame(dic)"
   ]
  },
  {
   "cell_type": "markdown",
   "metadata": {},
   "source": [
    "**Language Detection**"
   ]
  },
  {
   "cell_type": "code",
   "execution_count": null,
   "metadata": {},
   "outputs": [],
   "source": [
    "!pip3 install langdetect"
   ]
  },
  {
   "cell_type": "code",
   "execution_count": null,
   "metadata": {},
   "outputs": [],
   "source": [
    "from langdetect.lang_detect_exception import LangDetectException\n",
    "\n",
    "def languages_detection(text):\n",
    "    '''\n",
    "        extract all languages in a text \n",
    "    '''\n",
    "    from langdetect import detect\n",
    "    tokens = nltk.word_tokenize(text)\n",
    "    languages = []\n",
    "    for token in tokens: \n",
    "        try: \n",
    "            languages.append(detect(token))\n",
    "        except LangDetectException as e: \n",
    "            pass \n",
    "            \n",
    "    return languages"
   ]
  },
  {
   "cell_type": "code",
   "execution_count": null,
   "metadata": {},
   "outputs": [],
   "source": [
    "text = \"العَرَبِيَّة 中文 Ein zwei drei vier\"\n",
    "languages_detection(text)"
   ]
  },
  {
   "cell_type": "code",
   "execution_count": null,
   "metadata": {},
   "outputs": [],
   "source": [
    "Languages = df['Wikipedia_cleaned'].apply(languages_detection)"
   ]
  },
  {
   "cell_type": "markdown",
   "metadata": {},
   "source": [
    "**Country Detection**"
   ]
  },
  {
   "cell_type": "code",
   "execution_count": null,
   "metadata": {},
   "outputs": [],
   "source": [
    "!pip3 install locationtagger \n",
    "nltk.download('maxent_ne_chunker')\n",
    "nltk.download('words')"
   ]
  },
  {
   "cell_type": "code",
   "execution_count": null,
   "metadata": {},
   "outputs": [],
   "source": [
    "import locationtagger\n",
    "def country_detection(text):\n",
    "    '''\n",
    "        retrieves a list of countries from cities, regions and country mentions \n",
    "    '''\n",
    "    countries = []\n",
    "    entities = locationtagger.find_locations(text = text)\n",
    "    countries.extend(entities.country_cities.keys())\n",
    "    countries.extend(entities.countries)\n",
    "    \n",
    "    return list(set(countries))"
   ]
  },
  {
   "cell_type": "code",
   "execution_count": null,
   "metadata": {},
   "outputs": [],
   "source": [
    "text = \"Unlike India and Japan, A winter weather advisory remains in effect through 5 PM along and east of a line from Blue Earth, to Red Wing line in Minnesota and continuing to along an Ellsworth, to Menomonie, and Chippewa Falls line in Wisconsin.\"\n",
    "country_detection(text)"
   ]
  },
  {
   "cell_type": "code",
   "execution_count": null,
   "metadata": {},
   "outputs": [],
   "source": [
    "Countries = df['Wikipedia_cleaned'].apply(country_detection)"
   ]
  },
  {
   "cell_type": "markdown",
   "metadata": {},
   "source": [
    "**Named Entity Recognition**"
   ]
  },
  {
   "cell_type": "code",
   "execution_count": null,
   "metadata": {},
   "outputs": [],
   "source": [
    "def named_entities(text):\n",
    "    '''\n",
    "        extracts entity_names from a text\n",
    "    '''\n",
    "    doc = nlp(str(text))\n",
    "    entities_names = []\n",
    "    \n",
    "    for ent in doc.ents:\n",
    "        entities_names.append(ent.label_)   # extract entity names \n",
    "\n",
    "    return entities_names"
   ]
  },
  {
   "cell_type": "code",
   "execution_count": null,
   "metadata": {},
   "outputs": [],
   "source": [
    "def entities(text):\n",
    "    '''\n",
    "        extracts entities from a text\n",
    "    '''\n",
    "    doc = nlp(str(text))\n",
    "    entities = []\n",
    "    \n",
    "    for ent in doc.ents:\n",
    "        entities.append(ent.text)  # extract entities \n",
    "\n",
    "    return entities"
   ]
  },
  {
   "cell_type": "code",
   "execution_count": null,
   "metadata": {},
   "outputs": [],
   "source": [
    "Entity_Names = data['text'].apply(named_entities)\n",
    "Entities = data['text'].apply(entities)"
   ]
  },
  {
   "cell_type": "markdown",
   "metadata": {},
   "source": [
    "**Dependency Parsing**"
   ]
  },
  {
   "cell_type": "code",
   "execution_count": null,
   "metadata": {},
   "outputs": [],
   "source": [
    "import spacy\n",
    "nlp = spacy.load('en_core_web_sm')"
   ]
  },
  {
   "cell_type": "code",
   "execution_count": null,
   "metadata": {},
   "outputs": [],
   "source": [
    "def dependency_graph(text):\n",
    "    dependencies = []\n",
    "\n",
    "    doc = nlp(text)\n",
    "    all_two_treelet = \"\"\n",
    "    for token in doc:\n",
    "        two_treelet = str(token.pos_) + \" -> \" + str(token.dep_) + \" -> \" + str(token.head.pos_)\n",
    "        all_two_treelet += two_treelet + \" | \"\n",
    "    dependencies.append(all_two_treelet)\n",
    "    return pd.Series(dependencies)"
   ]
  },
  {
   "cell_type": "code",
   "execution_count": null,
   "metadata": {},
   "outputs": [],
   "source": [
    "%%time \n",
    "Dependency_Graph = data['description'].apply(dependency_graph)\n",
    "Dependency_Graph\n",
    "# vectorization with tfidf "
   ]
  },
  {
   "cell_type": "markdown",
   "metadata": {},
   "source": [
    "**POS Tags**"
   ]
  },
  {
   "cell_type": "code",
   "execution_count": null,
   "metadata": {},
   "outputs": [],
   "source": [
    "def pos_tags(text):\n",
    "    '''\n",
    "        create a dictionary of tags and their occurrences \n",
    "    '''\n",
    "    from collections import Counter\n",
    "    pos_tags = []\n",
    "    \n",
    "    doc = nlp(text)\n",
    "    for token in doc:\n",
    "        pos_tags.append(str(token.pos_))\n",
    "    \n",
    "    return pos_tags"
   ]
  },
  {
   "cell_type": "code",
   "execution_count": null,
   "metadata": {},
   "outputs": [],
   "source": [
    "POS_TAGS = data['text'].apply(pos_tags)"
   ]
  },
  {
   "cell_type": "markdown",
   "metadata": {},
   "source": [
    "**3-Grams**"
   ]
  },
  {
   "cell_type": "code",
   "execution_count": null,
   "metadata": {},
   "outputs": [],
   "source": [
    "# code from : https://stackoverflow.com/questions/17531684/n-grams-in-python-four-five-six-grams\n",
    "def get_ngrams(text, n=3):\n",
    "    n_grams = ngrams(word_tokenize(text), n)\n",
    "    return [' '.join(grams) for grams in n_grams]"
   ]
  },
  {
   "cell_type": "code",
   "execution_count": null,
   "metadata": {},
   "outputs": [],
   "source": [
    "get_ngrams('William Blake (28 November 1757 – 12 August 18', 3)"
   ]
  },
  {
   "cell_type": "code",
   "execution_count": null,
   "metadata": {},
   "outputs": [],
   "source": [
    "Tri_Grams = data['text'].apply(lambda x:get_ngrams(x, 3))\n",
    "Tri_Grams"
   ]
  },
  {
   "cell_type": "markdown",
   "metadata": {},
   "source": [
    "**Gather everything**"
   ]
  },
  {
   "cell_type": "code",
   "execution_count": null,
   "metadata": {},
   "outputs": [],
   "source": [
    "dic = {'Person':person,\n",
    "       'Wikipedia':wikipedia,\n",
    "       'Wikipedia_cleaned':wikipedia_after_pre,\n",
    "       'Wikidata':wikidata,\n",
    "       'Wikidata_cleaned':wikidata_after_pre,\n",
    "       'Wiki_combined':wiki_combined,\n",
    "       'Entity_Names': Entity_Names,\n",
    "       'Entities': Entities,\n",
    "       'Countries': Countries,\n",
    "       'Languages': Languages,\n",
    "       'POS_Tags' : POS_TAGS,\n",
    "       'Tri_Grams': Tri_Grams}"
   ]
  },
  {
   "cell_type": "code",
   "execution_count": null,
   "metadata": {},
   "outputs": [],
   "source": [
    "df = pd.DataFrame(dic)\n",
    "df.head()"
   ]
  },
  {
   "cell_type": "code",
   "execution_count": null,
   "metadata": {},
   "outputs": [],
   "source": [
    "df.to_csv('information_extracted.csv') #without dependency graph "
   ]
  },
  {
   "cell_type": "markdown",
   "metadata": {},
   "source": [
    "<div class='alert alert-success'><h1> Part 3 : Clustering </h1></div>"
   ]
  },
  {
   "cell_type": "code",
   "execution_count": null,
   "metadata": {},
   "outputs": [],
   "source": [
    "from sklearn.feature_extraction.text import CountVectorizer\n",
    "from sklearn.feature_extraction.text import TfidfVectorizer\n",
    "from sklearn.cluster import KMeans\n",
    "from sklearn import metrics\n",
    "import seaborn as sns\n",
    "import matplotlib.pyplot as plt"
   ]
  },
  {
   "cell_type": "markdown",
   "metadata": {},
   "source": [
    "## Vectorize Textual Data (String)"
   ]
  },
  {
   "cell_type": "code",
   "execution_count": null,
   "metadata": {},
   "outputs": [],
   "source": [
    "def vectorizer(corpus, method):\n",
    "    vectorizer = []\n",
    "    vectors = []\n",
    "    if method.lower() == 'tokens':\n",
    "        vectorizer = CountVectorizer(binary=True)\n",
    "        vectors = vectorizer.fit_transform(corpus)\n",
    "        \n",
    "    if method.lower() =='tokens frequency' or method =='bow':\n",
    "        vectorizer = CountVectorizer()\n",
    "        vectors = vectorizer.fit_transform(corpus)\n",
    "    \n",
    "    if method == 'tfidf':\n",
    "        vectorizer  = TfidfVectorizer(max_features=8000,\n",
    "                                       use_idf=True,\n",
    "                                       stop_words='english',\n",
    "                                       tokenizer=nltk.word_tokenize,\n",
    "                                       ngram_range=(1, 3))\n",
    "        vectors = vectorizer.fit_transform(corpus)\n",
    "    return pd.DataFrame(data= vectors.toarray(),columns=vectorizer.vocabulary_.keys())"
   ]
  },
  {
   "cell_type": "markdown",
   "metadata": {},
   "source": [
    "**Vectorization of Wikipedia_cleaned and Wikidata_cleaned with BOW method**"
   ]
  },
  {
   "cell_type": "code",
   "execution_count": null,
   "metadata": {},
   "outputs": [],
   "source": [
    "# Method : Tokens Frequency (BOW) \n",
    "wikipedia_bow = vectorizer(df['Wikipedia_cleaned'], method='bow'); print(\"wikipedia_bow shape : \", wikipedia_bow.shape)\n",
    "wikidata_bow = vectorizer(df['Wikidata_cleaned'], method='bow'); print(\"wikidata_bow shape : \", wikidata_bow.shape)\n",
    "\n",
    "features_bow = pd.concat([wikipedia_bow,wikidata_bow], axis=1)\n",
    "features_bow.head()"
   ]
  },
  {
   "cell_type": "markdown",
   "metadata": {},
   "source": [
    "**Vectorizations of the combinaison : Wikipedia_cleaned and Wikidata_cleaned**"
   ]
  },
  {
   "cell_type": "code",
   "execution_count": null,
   "metadata": {},
   "outputs": [],
   "source": [
    "wiki_t = vectorizer(df['Wiki_combined'], method='tokens'); print(\"wiki_t shape : \", wiki_t.shape)\n",
    "wiki_bow = vectorizer(df['Wiki_combined'], method='bow'); print(\"wiki_bow shape : \", wiki_bow.shape)\n",
    "wiki_tfidf = vectorizer(df['Wiki_combined'], method='tfidf'); print(\"wiki_tfidf shape : \", wiki_tfidf.shape)"
   ]
  },
  {
   "cell_type": "markdown",
   "metadata": {},
   "source": [
    "## Vectorize lists of Text"
   ]
  },
  {
   "cell_type": "code",
   "execution_count": null,
   "metadata": {},
   "outputs": [],
   "source": [
    "def list_to_bow(s):\n",
    "    '''\n",
    "        s : pd.series \n",
    "        Takes a pd.Series of lists (of keywords) and return a bag of words of it\n",
    "    '''\n",
    "    from collections import Counter\n",
    "    \n",
    "    # gather all keywords in one single list \n",
    "    keywords = []\n",
    "    for row in s: \n",
    "        keywords.extend(row)\n",
    "    keywords = list(set(keywords))  #unique values \n",
    "    \n",
    "    # frequence of each keywords \n",
    "    features = pd.DataFrame(np.nan, index=range(0,len(s)), columns=keywords) # empty dataframe (persons x keywords)\n",
    "    for i, row in enumerate(s): \n",
    "        row_count = dict(Counter(row))\n",
    "        for keyword in keywords: \n",
    "            if keyword not in row_count.keys():   # row_count.keys() = list of keywords per person \n",
    "                features[keyword][i] = 0\n",
    "            else: \n",
    "                features[keyword][i] = row_count[keyword]\n",
    "    \n",
    "    return features.astype(int)"
   ]
  },
  {
   "cell_type": "markdown",
   "metadata": {},
   "source": [
    "**NER Vectorization**"
   ]
  },
  {
   "cell_type": "code",
   "execution_count": null,
   "metadata": {},
   "outputs": [],
   "source": [
    "ner_vect = list_to_bow(df['Entity_Names'])\n",
    "ner_vect.head()"
   ]
  },
  {
   "cell_type": "code",
   "execution_count": null,
   "metadata": {},
   "outputs": [],
   "source": [
    "pd.DataFrame(ner_vect.sum().sort_values(ascending=False)).plot.bar()"
   ]
  },
  {
   "cell_type": "markdown",
   "metadata": {},
   "source": [
    "**POS-Tags Vectorization**"
   ]
  },
  {
   "cell_type": "code",
   "execution_count": null,
   "metadata": {},
   "outputs": [],
   "source": [
    "pos_vect = list_to_bow(df['POS_Tags'])\n",
    "pos_vect.head()"
   ]
  },
  {
   "cell_type": "code",
   "execution_count": null,
   "metadata": {},
   "outputs": [],
   "source": [
    "import seaborn as sns \n",
    "pd.DataFrame(pos_vect.sum().sort_values(ascending=False)).plot.bar(color='yellow')"
   ]
  },
  {
   "cell_type": "markdown",
   "metadata": {},
   "source": [
    "**Countries Vectorization**"
   ]
  },
  {
   "cell_type": "code",
   "execution_count": null,
   "metadata": {},
   "outputs": [],
   "source": [
    "countries_vect = list_to_bow(df['Countries'])\n",
    "countries_vect.head()"
   ]
  },
  {
   "cell_type": "code",
   "execution_count": null,
   "metadata": {},
   "outputs": [],
   "source": [
    "pd.DataFrame(countries_vect.sum().sort_values(ascending=False))[:30].plot.bar(color='cyan')"
   ]
  },
  {
   "cell_type": "markdown",
   "metadata": {},
   "source": [
    "**Languages Vectorization**"
   ]
  },
  {
   "cell_type": "code",
   "execution_count": null,
   "metadata": {},
   "outputs": [],
   "source": [
    "lang_vect = list_to_bow(df['Languages'])\n",
    "lang_vect.head()"
   ]
  },
  {
   "cell_type": "code",
   "execution_count": null,
   "metadata": {},
   "outputs": [],
   "source": [
    "pd.DataFrame(lang_vect.sum().sort_values(ascending=False))[:30].plot.bar(color='m')"
   ]
  },
  {
   "cell_type": "markdown",
   "metadata": {},
   "source": [
    "## Clustering "
   ]
  },
  {
   "cell_type": "code",
   "execution_count": null,
   "metadata": {},
   "outputs": [],
   "source": [
    "def clustering(X, nbr_clusters):\n",
    "    #Check the input representation method needed\n",
    "    #vectors = vectorizer(data,method)\n",
    "    \n",
    "    # Create a KMeans clustering model\n",
    "    km = KMeans(n_clusters=nbr_clusters, \n",
    "                init='k-means++', \n",
    "                max_iter=300, \n",
    "                n_init=5, \n",
    "                verbose=0, \n",
    "                random_state=3425)\n",
    "    km.fit(X) # Apply the clustering model\n",
    "    y_pred = km.labels_  # Find out the predicted labels\n",
    "\n",
    "    return y_pred"
   ]
  },
  {
   "cell_type": "code",
   "execution_count": null,
   "metadata": {},
   "outputs": [],
   "source": [
    "def intrinsic_metrics(vectors, predicted_values):\n",
    "    # When no ground truth is available\n",
    "    return {'Silouhette Coefficient':metrics.silhouette_score(vectors, predicted_values, sample_size=1000)}"
   ]
  },
  {
   "cell_type": "code",
   "execution_count": null,
   "metadata": {},
   "outputs": [],
   "source": [
    "def extrinsic_metrics(predicted_values, true_values):\n",
    "    #When we have ground truth\n",
    "    homogeneity = metrics.homogeneity_score(true_values, predicted_values)\n",
    "    completeness = metrics.completeness_score(true_values, predicted_values)\n",
    "    v_mesure = metrics.v_measure_score(true_values, predicted_values)\n",
    "    adjust_rand_index = metrics.adjusted_rand_score(true_values, predicted_values)\n",
    "\n",
    "    return {'Homogeneity':homogeneity,'Completeness':completeness,'V-Mesure':v_mesure,'Adjuste Rand Index':adjust_rand_index}"
   ]
  },
  {
   "cell_type": "code",
   "execution_count": null,
   "metadata": {},
   "outputs": [],
   "source": [
    "def visualization(intrinsic_measure, extrinsic_measure,method):\n",
    "    #Extraction of labels and values\n",
    "    labels = list(extrinsic_measure.keys())+list(intrinsic_measure.keys())\n",
    "    values = list(extrinsic_measure.values())+list(intrinsic_measure.values())\n",
    "\n",
    "    sns.barplot( x=labels, y=values)\n",
    "    plt.xlabel('metrics values')\n",
    "    plt.title('{} representation'.format(method))\n",
    "    plt.show()"
   ]
  },
  {
   "cell_type": "code",
   "execution_count": null,
   "metadata": {},
   "outputs": [],
   "source": []
  },
  {
   "cell_type": "markdown",
   "metadata": {},
   "source": [
    "## Methods"
   ]
  },
  {
   "cell_type": "markdown",
   "metadata": {},
   "source": [
    "**Target Encoding**"
   ]
  },
  {
   "cell_type": "code",
   "execution_count": null,
   "metadata": {},
   "outputs": [],
   "source": [
    "y = data['type']\n",
    "y.value_counts()"
   ]
  },
  {
   "cell_type": "code",
   "execution_count": null,
   "metadata": {},
   "outputs": [],
   "source": [
    "from sklearn.preprocessing import LabelEncoder\n",
    "encoder = LabelEncoder()\n",
    "y = data['type']\n",
    "y_test = pd.Series(encoder.fit_transform(y))\n",
    "y_test.value_counts()"
   ]
  },
  {
   "cell_type": "markdown",
   "metadata": {},
   "source": [
    "**Method 1 : Wikipedia (BOW)**"
   ]
  },
  {
   "cell_type": "code",
   "execution_count": null,
   "metadata": {},
   "outputs": [],
   "source": [
    "# Features \n",
    "features_1 = wikipedia_bow"
   ]
  },
  {
   "cell_type": "code",
   "execution_count": null,
   "metadata": {},
   "outputs": [],
   "source": [
    "# Training & Predictions \n",
    "ypred_1 = clustering(X=features_1, nbr_clusters=2)"
   ]
  },
  {
   "cell_type": "code",
   "execution_count": null,
   "metadata": {},
   "outputs": [],
   "source": [
    "# Evaluation\n",
    "method_1 = extrinsic_metrics(ypred_1, y_test)\n",
    "method_1.update(intrinsic_metrics(features_1, ypred_1))\n",
    "method_1['Method'] = 'Wikipedia (BOW)'\n",
    "method_1"
   ]
  },
  {
   "cell_type": "markdown",
   "metadata": {},
   "source": [
    "**Method 2 : Wikidata (BOW)**"
   ]
  },
  {
   "cell_type": "code",
   "execution_count": null,
   "metadata": {},
   "outputs": [],
   "source": [
    "# Features\n",
    "features_2 = wikidata_bow"
   ]
  },
  {
   "cell_type": "code",
   "execution_count": null,
   "metadata": {},
   "outputs": [],
   "source": [
    "# Training \n",
    "ypred_2 = clustering(X=features_2, nbr_clusters=2)"
   ]
  },
  {
   "cell_type": "code",
   "execution_count": null,
   "metadata": {},
   "outputs": [],
   "source": [
    "# Evaluation\n",
    "method_2 = extrinsic_metrics(ypred_2, y_test)\n",
    "method_2.update(intrinsic_metrics(features_2, ypred_2))\n",
    "method_2['Method'] = 'Wikidata (BOW)'\n",
    "method_2"
   ]
  },
  {
   "cell_type": "markdown",
   "metadata": {},
   "source": [
    "**Method 3 : Wikipedia + Wikidata (Tokens)**"
   ]
  },
  {
   "cell_type": "code",
   "execution_count": null,
   "metadata": {},
   "outputs": [],
   "source": [
    "# Features \n",
    "features_3 = wiki_t"
   ]
  },
  {
   "cell_type": "code",
   "execution_count": null,
   "metadata": {},
   "outputs": [],
   "source": [
    "# Training \n",
    "ypred_3 = clustering(X=features_3, nbr_clusters=2)"
   ]
  },
  {
   "cell_type": "code",
   "execution_count": null,
   "metadata": {},
   "outputs": [],
   "source": [
    "# Evaluation\n",
    "method_3 = extrinsic_metrics(ypred_3, y_test)\n",
    "method_3.update(intrinsic_metrics(features_3, ypred_3))\n",
    "method_3['Method'] = 'Wikipedia + Wikidata (Tokens)'\n",
    "method_3"
   ]
  },
  {
   "cell_type": "markdown",
   "metadata": {},
   "source": [
    "**Method 4 : Wikipedia + Wikidata (BOW)**"
   ]
  },
  {
   "cell_type": "code",
   "execution_count": null,
   "metadata": {},
   "outputs": [],
   "source": [
    "# Features \n",
    "features_4 = wiki_bow"
   ]
  },
  {
   "cell_type": "code",
   "execution_count": null,
   "metadata": {},
   "outputs": [],
   "source": [
    "# Training \n",
    "ypred_4 = clustering(X=features_4, nbr_clusters=2)"
   ]
  },
  {
   "cell_type": "code",
   "execution_count": null,
   "metadata": {},
   "outputs": [],
   "source": [
    "# Evaluation\n",
    "method_4 = extrinsic_metrics(ypred_4, y_test)\n",
    "method_4.update(intrinsic_metrics(features_4, ypred_4))\n",
    "method_4['Method'] = 'Wikipedia + Wikidata (BOW)'\n",
    "method_4"
   ]
  },
  {
   "cell_type": "markdown",
   "metadata": {},
   "source": [
    "**Method 5 : Wikipedia + Wikidata (TFIDF)**"
   ]
  },
  {
   "cell_type": "code",
   "execution_count": null,
   "metadata": {},
   "outputs": [],
   "source": [
    "# Features \n",
    "features_5 = wiki_tfidf"
   ]
  },
  {
   "cell_type": "code",
   "execution_count": null,
   "metadata": {},
   "outputs": [],
   "source": [
    "# Training \n",
    "ypred_5 = clustering(X=features_5, nbr_clusters=2)"
   ]
  },
  {
   "cell_type": "code",
   "execution_count": null,
   "metadata": {},
   "outputs": [],
   "source": [
    "# Evaluation\n",
    "method_5 = extrinsic_metrics(ypred_5, y_test)\n",
    "method_5.update(intrinsic_metrics(features_5, ypred_5))\n",
    "method_5['Method'] = 'Wikipedia + Wikidata (TF-IDF)'\n",
    "method_5"
   ]
  },
  {
   "cell_type": "markdown",
   "metadata": {},
   "source": [
    "**Method 6 : Wikipedia + Wikidata + NER (TFIDF)**"
   ]
  },
  {
   "cell_type": "code",
   "execution_count": null,
   "metadata": {},
   "outputs": [],
   "source": [
    "# Features \n",
    "features_6 = pd.concat([wiki_tfidf, ner_vect], axis=1)"
   ]
  },
  {
   "cell_type": "code",
   "execution_count": null,
   "metadata": {},
   "outputs": [],
   "source": [
    "# Training \n",
    "ypred_6 = clustering(X=features_6, nbr_clusters=2)"
   ]
  },
  {
   "cell_type": "code",
   "execution_count": null,
   "metadata": {},
   "outputs": [],
   "source": [
    "# Evaluation\n",
    "method_6 = extrinsic_metrics(ypred_6, y_test)\n",
    "method_6.update(intrinsic_metrics(features_6, ypred_6))\n",
    "method_6['Method'] = 'Wikipedia + Wikidata + NER '\n",
    "method_6"
   ]
  },
  {
   "cell_type": "markdown",
   "metadata": {},
   "source": [
    "**Method 7 : NER + POS-Tags**"
   ]
  },
  {
   "cell_type": "code",
   "execution_count": null,
   "metadata": {},
   "outputs": [],
   "source": [
    "# Features\n",
    "features_7 = pd.concat([ner_vect, pos_vect], axis=1)"
   ]
  },
  {
   "cell_type": "code",
   "execution_count": null,
   "metadata": {},
   "outputs": [],
   "source": [
    "# Training \n",
    "ypred_7 = clustering(X=features_7, nbr_clusters=2)"
   ]
  },
  {
   "cell_type": "code",
   "execution_count": null,
   "metadata": {},
   "outputs": [],
   "source": [
    "# Evaluation\n",
    "method_7 = extrinsic_metrics(ypred_7, y_test)\n",
    "method_7.update(intrinsic_metrics(features_7, ypred_7))\n",
    "method_7['Method'] = 'NER + POS-TAGS'\n",
    "method_7"
   ]
  },
  {
   "cell_type": "markdown",
   "metadata": {},
   "source": [
    "**Method 8 : Wikipedia + Wikidata + NER + POS-Tags + Languages + Countries**"
   ]
  },
  {
   "cell_type": "code",
   "execution_count": null,
   "metadata": {},
   "outputs": [],
   "source": [
    "# Features\n",
    "features_8 = pd.concat([wiki_tfidf, ner_vect, pos_vect, lang_vect, countries_vect], axis=1)"
   ]
  },
  {
   "cell_type": "code",
   "execution_count": null,
   "metadata": {},
   "outputs": [],
   "source": [
    "ypred_8 = clustering(X=features_8, nbr_clusters=2)"
   ]
  },
  {
   "cell_type": "code",
   "execution_count": null,
   "metadata": {},
   "outputs": [],
   "source": [
    "# Evaluation\n",
    "method_8 = extrinsic_metrics(ypred_8, y_test)\n",
    "method_8.update(intrinsic_metrics(features_8, ypred_8))\n",
    "method_8['Method'] = 'Wikipedia + Wikidata + NER + POS-TAGS + Languages + Countries'\n",
    "method_8"
   ]
  },
  {
   "cell_type": "markdown",
   "metadata": {},
   "source": [
    "**Method 9 : NER**"
   ]
  },
  {
   "cell_type": "code",
   "execution_count": null,
   "metadata": {},
   "outputs": [],
   "source": [
    "# Features\n",
    "features_9 = ner_vect"
   ]
  },
  {
   "cell_type": "code",
   "execution_count": null,
   "metadata": {},
   "outputs": [],
   "source": [
    "# Training \n",
    "ypred_9 = clustering(X=features_9, nbr_clusters=2)"
   ]
  },
  {
   "cell_type": "code",
   "execution_count": null,
   "metadata": {},
   "outputs": [],
   "source": [
    "# Evaluation\n",
    "method_9 = extrinsic_metrics(ypred_9, y_test)\n",
    "method_9.update(intrinsic_metrics(features_9, ypred_9))\n",
    "method_9['Method'] = 'NER'\n",
    "method_9"
   ]
  },
  {
   "cell_type": "markdown",
   "metadata": {},
   "source": [
    "**Summary**"
   ]
  },
  {
   "cell_type": "code",
   "execution_count": null,
   "metadata": {},
   "outputs": [],
   "source": [
    "#For more readability, we create a dataframe\n",
    "summary = pd.DataFrame([method_1, method_2, method_3, method_4, method_5, method_6, method_7, method_8, method_9], \n",
    "                       columns=['Method','Silouhette Coefficient','Homogeneity','Completeness','V-Mesure','Adjuste Rand Index'])\n",
    "summary.sort_values(by=['Silouhette Coefficient'], ascending=False)"
   ]
  },
  {
   "cell_type": "markdown",
   "metadata": {},
   "source": [
    "## Clustering with 6 clusters "
   ]
  },
  {
   "cell_type": "code",
   "execution_count": null,
   "metadata": {},
   "outputs": [],
   "source": [
    "from sklearn.preprocessing import LabelEncoder\n",
    "#Here we define our test set\n",
    "encoder = LabelEncoder()\n",
    "y = data['cat']\n",
    "y_test = pd.Series(encoder.fit_transform(y))\n",
    "y_test.value_counts()"
   ]
  },
  {
   "cell_type": "code",
   "execution_count": null,
   "metadata": {},
   "outputs": [],
   "source": [
    "# Training & Predictions \n",
    "ypred_1 = clustering(X=features_1, nbr_clusters=6)\n",
    "# Evaluation\n",
    "method_1 = extrinsic_metrics(ypred_1, y_test)\n",
    "method_1.update(intrinsic_metrics(features_1, ypred_1))\n",
    "method_1['Method'] = 'Wikipedia (BOW)'\n",
    "#method_1\n",
    "\n",
    "# Training \n",
    "ypred_2 = clustering(X=features_2, nbr_clusters=6)\n",
    "# Evaluation\n",
    "method_2 = extrinsic_metrics(ypred_2, y_test)\n",
    "method_2.update(intrinsic_metrics(features_2, ypred_2))\n",
    "method_2['Method'] = 'Wikidata (BOW)'\n",
    "#method_2\n",
    "\n",
    "# Training \n",
    "ypred_3 = clustering(X=features_3, nbr_clusters=6)\n",
    "# Evaluation\n",
    "method_3 = extrinsic_metrics(ypred_3, y_test)\n",
    "method_3.update(intrinsic_metrics(features_3, ypred_3))\n",
    "method_3['Method'] = 'Wikipedia + Wikidata (Tokens)'\n",
    "#method_3\n",
    "\n",
    "# Training \n",
    "ypred_4 = clustering(X=features_4, nbr_clusters=6)\n",
    "# Evaluation\n",
    "method_4 = extrinsic_metrics(ypred_4, y_test)\n",
    "method_4.update(intrinsic_metrics(features_4, ypred_4))\n",
    "method_4['Method'] = 'Wikipedia + Wikidata (BOW)'\n",
    "#method_4\n",
    "\n",
    "# Training \n",
    "ypred_5 = clustering(X=features_5, nbr_clusters=6)\n",
    "# Evaluation\n",
    "method_5 = extrinsic_metrics(ypred_5, y_test)\n",
    "method_5.update(intrinsic_metrics(features_5, ypred_5))\n",
    "method_5['Method'] = 'Wikipedia + Wikidata (TF-IDF)'\n",
    "#method_5\n",
    "\n",
    "# Training \n",
    "ypred_6 = clustering(X=features_6, nbr_clusters=6)\n",
    "# Evaluation\n",
    "method_6 = extrinsic_metrics(ypred_6, y_test)\n",
    "method_6.update(intrinsic_metrics(features_6, ypred_6))\n",
    "method_6['Method'] = 'Wikipedia + Wikidata + NER '\n",
    "#method_6\n",
    "\n",
    "# Training \n",
    "ypred_7 = clustering(X=features_7, nbr_clusters=6)\n",
    "# Evaluation\n",
    "method_7 = extrinsic_metrics(ypred_7, y_test)\n",
    "method_7.update(intrinsic_metrics(features_7, ypred_7))\n",
    "method_7['Method'] = 'Wikipedia + Wikidata + NER + POS-TAGS'\n",
    "#method_7\n",
    "\n",
    "ypred_8 = clustering(X=features_8, nbr_clusters=6)\n",
    "# Evaluation\n",
    "method_8 = extrinsic_metrics(ypred_8, y_test)\n",
    "method_8.update(intrinsic_metrics(features_8, ypred_8))\n",
    "method_8['Method'] = 'Wikipedia + Wikidata + NER + POS-TAGS + Languages + Countries'\n",
    "#method_8\n",
    "\n",
    "# Features\n",
    "features_9 = ner_vect\n",
    "# Training \n",
    "ypred_9 = clustering(X=features_9, nbr_clusters=6)\n",
    "# Evaluation\n",
    "method_9 = extrinsic_metrics(ypred_9, y_test)\n",
    "method_9.update(intrinsic_metrics(features_9, ypred_9))\n",
    "method_9['Method'] = 'NER'\n",
    "#method_9"
   ]
  },
  {
   "cell_type": "markdown",
   "metadata": {},
   "source": [
    "**Summary**"
   ]
  },
  {
   "cell_type": "code",
   "execution_count": null,
   "metadata": {},
   "outputs": [],
   "source": [
    "summary = pd.DataFrame([method_1, method_2, method_3, method_4, method_5, method_6, method_7, method_8, method_9], \n",
    "                       columns=['Method','Silouhette Coefficient','Homogeneity','Completeness','V-Mesure','Adjuste Rand Index'])\n",
    "summary.sort_values(by=['Silouhette Coefficient'], ascending=False)"
   ]
  },
  {
   "cell_type": "markdown",
   "metadata": {},
   "source": [
    "<div class='alert alert-success'><h1> Part 4 : Classification</h1></div>"
   ]
  },
  {
   "cell_type": "markdown",
   "metadata": {},
   "source": [
    "## Models"
   ]
  },
  {
   "cell_type": "code",
   "execution_count": null,
   "metadata": {},
   "outputs": [],
   "source": [
    "from sklearn.svm import SVC\n",
    "from sklearn.linear_model import Perceptron\n",
    "from sklearn.ensemble import RandomForestClassifier\n",
    "from sklearn.metrics import classification_report, accuracy_score, confusion_matrix"
   ]
  },
  {
   "cell_type": "code",
   "execution_count": null,
   "metadata": {},
   "outputs": [],
   "source": [
    "#Definition of perceptron function. It takes X_train, y_train, X_test,y_test and return  accuracy, confision matrix and \n",
    "#a report that contains recall,precision,f1_score\n",
    "def perceptron(X_train, y_train, X_test,y_test):\n",
    "    per_clf = Perceptron(max_iter=5, tol=None)\n",
    "    # Train the model on the training data\n",
    "    per_clf.fit(X_train, y_train)\n",
    "\n",
    "    # Test the model on the test data\n",
    "    y_pred = per_clf.predict(X_test)\n",
    "    #Accuracy\n",
    "    acc = accuracy_score(y_test, y_pred)\n",
    "    #Confusion Matrix\n",
    "    mat = confusion_matrix(y_test, y_pred)\n",
    "    #Classification report\n",
    "    report = classification_report(y_test, y_pred)\n",
    "    return acc,report,mat"
   ]
  },
  {
   "cell_type": "code",
   "execution_count": null,
   "metadata": {},
   "outputs": [],
   "source": [
    "#Definition of random forest function. It takes X_train, y_train, X_test,y_test and return  accuracy, confision matrix and \n",
    "#a report that contains recall,precision,f1_score\n",
    "def random_forest(X_train, y_train, X_test,y_test):\n",
    "\n",
    "    rf_clf = RandomForestClassifier(n_estimators=100)\n",
    "    # Train the model on the training data\n",
    "    rf_clf.fit(X_train, y_train)\n",
    "    # Test the model on the test data\n",
    "    y_pred = rf_clf.predict(X_test)\n",
    "    #Accuracy\n",
    "    acc = accuracy_score(y_test, y_pred)\n",
    "    #Confusion Matrix\n",
    "    mat = confusion_matrix(y_test, y_pred)\n",
    "    #Classification report\n",
    "    report = classification_report(y_test, y_pred)\n",
    "    return acc,report,mat"
   ]
  },
  {
   "cell_type": "code",
   "execution_count": null,
   "metadata": {},
   "outputs": [],
   "source": [
    "#SVM model\n",
    "def svm(X_train, y_train, X_test, y_test):\n",
    "\n",
    "    svm = SVC()\n",
    "    # Train the model on the training data\n",
    "    svm.fit(X_train,y_train)\n",
    "    # Test the model on the test data\n",
    "    y_pred = svm.predict(X_test)\n",
    "    #Accuracy\n",
    "    acc = accuracy_score(y_test, y_pred)\n",
    "    #Confusion Matrix\n",
    "    mat = confusion_matrix(y_test, y_pred)\n",
    "    #Classification report\n",
    "    report = classification_report(y_test, y_pred)\n",
    "    return acc,report,mat"
   ]
  },
  {
   "cell_type": "markdown",
   "metadata": {},
   "source": [
    "## Categories Classification (Binary Classification)"
   ]
  },
  {
   "cell_type": "code",
   "execution_count": null,
   "metadata": {},
   "outputs": [],
   "source": [
    "# use of previous features\n",
    "from sklearn.model_selection import train_test_split\n",
    "\n",
    "# Encoding the target using label encoder from sklearn\n",
    "from sklearn.preprocessing import LabelEncoder\n",
    "encoder = LabelEncoder()\n",
    "y = data['type']\n",
    "y = pd.Series(encoder.fit_transform(y))\n",
    "\n",
    "# Split the data : Train set & Test Set \n",
    "f = [features_1, features_2, features_3, features_4, features_5, features_6, features_7, features_8, features_9]\n",
    "features = []\n",
    "for feature in f: \n",
    "    X_train, X_test, y_train, y_test = train_test_split(feature, y, test_size=0.33, random_state=42)\n",
    "    features.append([X_train, X_test, y_train, y_test])"
   ]
  },
  {
   "cell_type": "code",
   "execution_count": null,
   "metadata": {},
   "outputs": [],
   "source": [
    "#Here the goal is to make a loop to test all data representation method. We also classification function intanciate above\n",
    "methods = {}\n",
    "reports = {}\n",
    "confusion_matrices = {}\n",
    "for i, feature in enumerate(features): \n",
    "    #Defining train and test data\n",
    "    X_train, X_test, y_train, y_test = feature[0], feature[1], feature[2], feature[3]\n",
    "    #Retrieve results return by perceptron classifier\n",
    "    accuracy_perceptron, report_perceptron, confusion_mat_perceptron = perceptron(X_train, y_train, X_test, y_test)\n",
    "    #Retrieve results return by Random Forest classifier\n",
    "    accuracy_rf, report_rf, confusion_mat_rf = random_forest(X_train, y_train, X_test, y_test)\n",
    "    #Retrieve results return by SVM\n",
    "    accuracy_svm, report_svm, confusion_mat_svm = svm(X_train, y_train, X_test, y_test)\n",
    "    #Here we get all results returned by our classifiers\n",
    "    methods['method_' + str(i+1)] = [accuracy_perceptron, accuracy_rf, accuracy_svm]\n",
    "    reports['method_' + str(i+1)] = [report_perceptron, report_rf, report_svm]\n",
    "    confusion_matrices['method_' + str(i)] = [confusion_mat_perceptron, confusion_mat_rf, confusion_mat_svm]"
   ]
  },
  {
   "cell_type": "code",
   "execution_count": null,
   "metadata": {},
   "outputs": [],
   "source": [
    "#To have a better presentation of results we build a dataframe \n",
    "summary_bclass = pd.DataFrame.from_dict(methods, orient='index', columns=['Accuracy Perceptron','Accuracy Random Forest','Accuracy SVM'])\n",
    "summary_bclass"
   ]
  },
  {
   "cell_type": "markdown",
   "metadata": {},
   "source": [
    "## Subcategories Classification (Multi-Class Classification)"
   ]
  },
  {
   "cell_type": "code",
   "execution_count": null,
   "metadata": {},
   "outputs": [],
   "source": [
    "# use of previous features\n",
    "from sklearn.model_selection import train_test_split\n",
    "\n",
    "# Encoding the target \n",
    "from sklearn.preprocessing import LabelEncoder\n",
    "encoder = LabelEncoder()\n",
    "y = data['cat']\n",
    "y = pd.Series(encoder.fit_transform(y))\n",
    "\n",
    "# Split the data : Train set & Test Set \n",
    "f = [features_1, features_2, features_3, features_4, features_5, features_6, features_7, features_8, features_9]\n",
    "features = []\n",
    "for feature in f: \n",
    "    X_train, X_test, y_train, y_test = train_test_split(feature, y, test_size=0.33, random_state=42)\n",
    "    features.append([X_train, X_test, y_train, y_test])"
   ]
  },
  {
   "cell_type": "code",
   "execution_count": null,
   "metadata": {},
   "outputs": [],
   "source": [
    "#Here the goal is to make a loop to test all data representation method. We also classification function intanciate above\n",
    "#Same as previous cells\n",
    "methods = {}\n",
    "reports = {}\n",
    "confusion_matrices = {}\n",
    "for i, feature in enumerate(features): \n",
    "    X_train, X_test, y_train, y_test = feature[0], feature[1], feature[2], feature[3]\n",
    "    accuracy_perceptron, report_perceptron, confusion_mat_perceptron = perceptron(X_train, y_train, X_test, y_test)\n",
    "    accuracy_rf, report_rf, confusion_mat_rf = random_forest(X_train, y_train, X_test, y_test)\n",
    "    accuracy_svm, report_svm, confusion_mat_svm = svm(X_train, y_train, X_test, y_test)\n",
    "    methods['method_' + str(i+1)] = [accuracy_perceptron, accuracy_rf, accuracy_svm]\n",
    "    reports['method_' + str(i+1)] = [report_perceptron, report_rf, report_svm]\n",
    "    confusion_matrices['method_' + str(i)] = [confusion_mat_perceptron, confusion_mat_rf, confusion_mat_svm]"
   ]
  },
  {
   "cell_type": "code",
   "execution_count": null,
   "metadata": {},
   "outputs": [],
   "source": [
    "#To have a better presentation of results we build a dataframe \n",
    "summary_bclass = pd.DataFrame.from_dict(methods, orient='index', columns=['Accuracy Perceptron','Accuracy Random Forest','Accuracy SVM'])\n",
    "summary_bclass"
   ]
  },
  {
   "cell_type": "code",
   "execution_count": null,
   "metadata": {},
   "outputs": [],
   "source": []
  },
  {
   "cell_type": "code",
   "execution_count": null,
   "metadata": {},
   "outputs": [],
   "source": []
  }
 ],
 "metadata": {
  "kernelspec": {
   "display_name": "Python 3",
   "language": "python",
   "name": "python3"
  },
  "language_info": {
   "codemirror_mode": {
    "name": "ipython",
    "version": 3
   },
   "file_extension": ".py",
   "mimetype": "text/x-python",
   "name": "python",
   "nbconvert_exporter": "python",
   "pygments_lexer": "ipython3",
   "version": "3.7.4"
  }
 },
 "nbformat": 4,
 "nbformat_minor": 4
}
